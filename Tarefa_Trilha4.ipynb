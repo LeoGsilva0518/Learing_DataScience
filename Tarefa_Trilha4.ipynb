{
  "nbformat": 4,
  "nbformat_minor": 0,
  "metadata": {
    "colab": {
      "provenance": [],
      "collapsed_sections": [
        "AdR-CE_AceWA",
        "3hTl4Dyygb4I",
        "hWmgJ48ghiip"
      ],
      "authorship_tag": "ABX9TyPr01+IkwVdIuRz2bOHk2x2",
      "include_colab_link": true
    },
    "kernelspec": {
      "name": "python3",
      "display_name": "Python 3"
    },
    "language_info": {
      "name": "python"
    }
  },
  "cells": [
    {
      "cell_type": "markdown",
      "metadata": {
        "id": "view-in-github",
        "colab_type": "text"
      },
      "source": [
        "<a href=\"https://colab.research.google.com/github/LeoGsilva0518/Learing_DataScience/blob/main/Tarefa_Trilha4.ipynb\" target=\"_parent\"><img src=\"https://colab.research.google.com/assets/colab-badge.svg\" alt=\"Open In Colab\"/></a>"
      ]
    },
    {
      "cell_type": "markdown",
      "source": [
        "# **Trilha 4: Tarefa (Peso 3)**\n",
        "\n",
        "Aqui você vai empregar os conhecimentos aprendidos de Python para efetuar sua própria Análise de Dados. Empregue bases de dados extraídas de um ou ambos os sites abaixo:  \n",
        "\n",
        "a. https://wid.world/\n",
        "\n",
        "b. https://www.gapminder.org/\n",
        "\n",
        "O emprego de uma base formada por dados de ambos os sites é bastante enriquecedor mas não é obrigatório. Você pode empregar uma ou mais bases de um único site e deixar para estudar mais adiante merges e joins de tabelas com R. \n",
        "\n",
        "Faça uma Análise Exploratória dos Dados (EDA) com dados de seu interesse, empregando o Python e o que você aprendeu até aqui. Os sites apresentam diversos dados sobre as diferenças de desenvolvimento dos países e a desigualdade. Foque em perguntas que são do seu interesse sobre os dados.  \n",
        "\n",
        "Na sua análise você deve responder ao menos quatro perguntas relevantes sobre os dados, incluir na sua análise seleções e visualizações dos dados e um texto de conclusão a cada pergunta.  \n",
        "\n",
        "Peça ao professor modelos de código para sua implementação. \n",
        "\n",
        "Seu código deve ser minimamente claro e organizado. Não são necessários comentários detalhados, mas deixe claro no seu código cada parte (atividade), cada fase realizada e a resposta final com sua conclusão.  \n",
        "\n",
        " Entrega:  \n",
        "\n",
        ".pdf de print do seu notebook Python. \n",
        "\n",
        "Compartilhe o endereço do seu notebook Python (Google Drive ou GitHub) 100% executável para abertura no Google Colab.  \n",
        "\n",
        "Não deixe de incluir o seu texto uma introdução justificando a escolha da análise e ao final suas conclusões. \n",
        "\n"
      ],
      "metadata": {
        "id": "AdR-CE_AceWA"
      }
    },
    {
      "cell_type": "markdown",
      "source": [
        "# **Population growth (annual %)**\n",
        "Derived from total population. Population source: ( 1 ) United Nations Population Division. World Population Prospects: 2019 Revision, ( 2 ) Census reports and other statistical publications from national statistical offices, ( 3 ) Eurostat: Demographic Statistics, ( 4 ) United Nations Statistical Division. Population and Vital Statistics Reprot ( various years ), ( 5 ) U.S. Census Bureau: International Database, and ( 6 ) Secretariat of the Pacific Community: Statistics and Demography Programme."
      ],
      "metadata": {
        "id": "3hTl4Dyygb4I"
      }
    },
    {
      "cell_type": "markdown",
      "source": [
        "\n",
        "# **CO2 Emissions (tones per person)**\n",
        "## **Carbon Dioxide Information Analysis Center**\n",
        "\n",
        "ESS-DIVE CDIAC Data Transition\n",
        "The CDIAC data archive ceases operation at the end of September 2017. The data collected over 30 years of operation are transitioning to new archives. The U.S. Department of Energy’s (DOE) Environmental System Science Data Infrastructure for a Virtual Ecosystem (ESS-DIVE) archive is managing the transition. During the transition, this version of the CDIAC website provides access to the CDIAC data. ESS-DIVE is maintained by the Lawrence Berkeley National Laboratory and supported by the DOE’s Office of Science Biological and Environmental Research program (BER). If you have any questions about ESS-DIVE or the data transition, please contact ess-dive-support@lbl.gov or see http://ess-dive.lbl.gov.\n",
        "\n"
      ],
      "metadata": {
        "id": "hWmgJ48ghiip"
      }
    },
    {
      "cell_type": "code",
      "source": [
        "import numpy as np\n",
        "import pandas as pd\n",
        "import matplotlib.pyplot as plt\n",
        "%matplotlib inline\n",
        "import seaborn as sns"
      ],
      "metadata": {
        "id": "As0OBjeKi7m2"
      },
      "execution_count": 26,
      "outputs": []
    },
    {
      "cell_type": "code",
      "source": [
        "#Obtendo dados\n",
        "population = pd.read_csv('https://raw.githubusercontent.com/LeoGsilva0518/Learing_DataScience/main/population_growth_annual_percent.csv')\n",
        "population.head()"
      ],
      "metadata": {
        "colab": {
          "base_uri": "https://localhost:8080/",
          "height": 0
        },
        "id": "t2eCWUWgiZ1B",
        "outputId": "bbddb956-a72c-4e59-e8d7-d1ead40deb4f"
      },
      "execution_count": 27,
      "outputs": [
        {
          "output_type": "execute_result",
          "data": {
            "text/plain": [
              "       country  1960  1961   1962   1963   1964   1965    1966     1967  \\\n",
              "0        Aruba  2.24  1.43  0.824   0.58  0.574    0.6   0.591    0.572   \n",
              "1  Afghanistan   1.9  1.97   2.03   2.09   2.15   2.17    2.19     2.25   \n",
              "2       Angola  1.39  1.38   1.26  0.974  0.618  0.186  −0.119  −0.0427   \n",
              "3      Albania  3.12  3.06   2.95   2.88   2.75   2.63    2.63     2.84   \n",
              "4      Andorra  6.97  6.73   6.47   6.25   5.98   5.78    5.52     5.28   \n",
              "\n",
              "    1968  ...    2010    2011    2012    2013    2014    2015    2016    2017  \\\n",
              "0   0.61  ...   0.378   0.503   0.583   0.591   0.541   0.503   0.472   0.459   \n",
              "1   2.38  ...    3.14    3.41    3.49    3.36    3.08    2.78    2.55    2.38   \n",
              "2  0.548  ...    3.63     3.6    3.55     3.5    3.44    3.38    3.32    3.28   \n",
              "3    2.9  ...  −0.269  −0.165  −0.183  −0.207  −0.291   −0.16  −0.092  −0.247   \n",
              "4   5.19  ...  −0.839   −1.59   −2.03   −1.95   −1.55  −0.899  −0.386  0.0143   \n",
              "\n",
              "     2018    2019  \n",
              "0   0.437   0.428  \n",
              "1    2.31     2.3  \n",
              "2    3.24    3.22  \n",
              "3  −0.426  −0.574  \n",
              "4   0.179   0.154  \n",
              "\n",
              "[5 rows x 61 columns]"
            ],
            "text/html": [
              "\n",
              "  <div id=\"df-48334665-3b21-40db-91db-11390f5b779c\">\n",
              "    <div class=\"colab-df-container\">\n",
              "      <div>\n",
              "<style scoped>\n",
              "    .dataframe tbody tr th:only-of-type {\n",
              "        vertical-align: middle;\n",
              "    }\n",
              "\n",
              "    .dataframe tbody tr th {\n",
              "        vertical-align: top;\n",
              "    }\n",
              "\n",
              "    .dataframe thead th {\n",
              "        text-align: right;\n",
              "    }\n",
              "</style>\n",
              "<table border=\"1\" class=\"dataframe\">\n",
              "  <thead>\n",
              "    <tr style=\"text-align: right;\">\n",
              "      <th></th>\n",
              "      <th>country</th>\n",
              "      <th>1960</th>\n",
              "      <th>1961</th>\n",
              "      <th>1962</th>\n",
              "      <th>1963</th>\n",
              "      <th>1964</th>\n",
              "      <th>1965</th>\n",
              "      <th>1966</th>\n",
              "      <th>1967</th>\n",
              "      <th>1968</th>\n",
              "      <th>...</th>\n",
              "      <th>2010</th>\n",
              "      <th>2011</th>\n",
              "      <th>2012</th>\n",
              "      <th>2013</th>\n",
              "      <th>2014</th>\n",
              "      <th>2015</th>\n",
              "      <th>2016</th>\n",
              "      <th>2017</th>\n",
              "      <th>2018</th>\n",
              "      <th>2019</th>\n",
              "    </tr>\n",
              "  </thead>\n",
              "  <tbody>\n",
              "    <tr>\n",
              "      <th>0</th>\n",
              "      <td>Aruba</td>\n",
              "      <td>2.24</td>\n",
              "      <td>1.43</td>\n",
              "      <td>0.824</td>\n",
              "      <td>0.58</td>\n",
              "      <td>0.574</td>\n",
              "      <td>0.6</td>\n",
              "      <td>0.591</td>\n",
              "      <td>0.572</td>\n",
              "      <td>0.61</td>\n",
              "      <td>...</td>\n",
              "      <td>0.378</td>\n",
              "      <td>0.503</td>\n",
              "      <td>0.583</td>\n",
              "      <td>0.591</td>\n",
              "      <td>0.541</td>\n",
              "      <td>0.503</td>\n",
              "      <td>0.472</td>\n",
              "      <td>0.459</td>\n",
              "      <td>0.437</td>\n",
              "      <td>0.428</td>\n",
              "    </tr>\n",
              "    <tr>\n",
              "      <th>1</th>\n",
              "      <td>Afghanistan</td>\n",
              "      <td>1.9</td>\n",
              "      <td>1.97</td>\n",
              "      <td>2.03</td>\n",
              "      <td>2.09</td>\n",
              "      <td>2.15</td>\n",
              "      <td>2.17</td>\n",
              "      <td>2.19</td>\n",
              "      <td>2.25</td>\n",
              "      <td>2.38</td>\n",
              "      <td>...</td>\n",
              "      <td>3.14</td>\n",
              "      <td>3.41</td>\n",
              "      <td>3.49</td>\n",
              "      <td>3.36</td>\n",
              "      <td>3.08</td>\n",
              "      <td>2.78</td>\n",
              "      <td>2.55</td>\n",
              "      <td>2.38</td>\n",
              "      <td>2.31</td>\n",
              "      <td>2.3</td>\n",
              "    </tr>\n",
              "    <tr>\n",
              "      <th>2</th>\n",
              "      <td>Angola</td>\n",
              "      <td>1.39</td>\n",
              "      <td>1.38</td>\n",
              "      <td>1.26</td>\n",
              "      <td>0.974</td>\n",
              "      <td>0.618</td>\n",
              "      <td>0.186</td>\n",
              "      <td>−0.119</td>\n",
              "      <td>−0.0427</td>\n",
              "      <td>0.548</td>\n",
              "      <td>...</td>\n",
              "      <td>3.63</td>\n",
              "      <td>3.6</td>\n",
              "      <td>3.55</td>\n",
              "      <td>3.5</td>\n",
              "      <td>3.44</td>\n",
              "      <td>3.38</td>\n",
              "      <td>3.32</td>\n",
              "      <td>3.28</td>\n",
              "      <td>3.24</td>\n",
              "      <td>3.22</td>\n",
              "    </tr>\n",
              "    <tr>\n",
              "      <th>3</th>\n",
              "      <td>Albania</td>\n",
              "      <td>3.12</td>\n",
              "      <td>3.06</td>\n",
              "      <td>2.95</td>\n",
              "      <td>2.88</td>\n",
              "      <td>2.75</td>\n",
              "      <td>2.63</td>\n",
              "      <td>2.63</td>\n",
              "      <td>2.84</td>\n",
              "      <td>2.9</td>\n",
              "      <td>...</td>\n",
              "      <td>−0.269</td>\n",
              "      <td>−0.165</td>\n",
              "      <td>−0.183</td>\n",
              "      <td>−0.207</td>\n",
              "      <td>−0.291</td>\n",
              "      <td>−0.16</td>\n",
              "      <td>−0.092</td>\n",
              "      <td>−0.247</td>\n",
              "      <td>−0.426</td>\n",
              "      <td>−0.574</td>\n",
              "    </tr>\n",
              "    <tr>\n",
              "      <th>4</th>\n",
              "      <td>Andorra</td>\n",
              "      <td>6.97</td>\n",
              "      <td>6.73</td>\n",
              "      <td>6.47</td>\n",
              "      <td>6.25</td>\n",
              "      <td>5.98</td>\n",
              "      <td>5.78</td>\n",
              "      <td>5.52</td>\n",
              "      <td>5.28</td>\n",
              "      <td>5.19</td>\n",
              "      <td>...</td>\n",
              "      <td>−0.839</td>\n",
              "      <td>−1.59</td>\n",
              "      <td>−2.03</td>\n",
              "      <td>−1.95</td>\n",
              "      <td>−1.55</td>\n",
              "      <td>−0.899</td>\n",
              "      <td>−0.386</td>\n",
              "      <td>0.0143</td>\n",
              "      <td>0.179</td>\n",
              "      <td>0.154</td>\n",
              "    </tr>\n",
              "  </tbody>\n",
              "</table>\n",
              "<p>5 rows × 61 columns</p>\n",
              "</div>\n",
              "      <button class=\"colab-df-convert\" onclick=\"convertToInteractive('df-48334665-3b21-40db-91db-11390f5b779c')\"\n",
              "              title=\"Convert this dataframe to an interactive table.\"\n",
              "              style=\"display:none;\">\n",
              "        \n",
              "  <svg xmlns=\"http://www.w3.org/2000/svg\" height=\"24px\"viewBox=\"0 0 24 24\"\n",
              "       width=\"24px\">\n",
              "    <path d=\"M0 0h24v24H0V0z\" fill=\"none\"/>\n",
              "    <path d=\"M18.56 5.44l.94 2.06.94-2.06 2.06-.94-2.06-.94-.94-2.06-.94 2.06-2.06.94zm-11 1L8.5 8.5l.94-2.06 2.06-.94-2.06-.94L8.5 2.5l-.94 2.06-2.06.94zm10 10l.94 2.06.94-2.06 2.06-.94-2.06-.94-.94-2.06-.94 2.06-2.06.94z\"/><path d=\"M17.41 7.96l-1.37-1.37c-.4-.4-.92-.59-1.43-.59-.52 0-1.04.2-1.43.59L10.3 9.45l-7.72 7.72c-.78.78-.78 2.05 0 2.83L4 21.41c.39.39.9.59 1.41.59.51 0 1.02-.2 1.41-.59l7.78-7.78 2.81-2.81c.8-.78.8-2.07 0-2.86zM5.41 20L4 18.59l7.72-7.72 1.47 1.35L5.41 20z\"/>\n",
              "  </svg>\n",
              "      </button>\n",
              "      \n",
              "  <style>\n",
              "    .colab-df-container {\n",
              "      display:flex;\n",
              "      flex-wrap:wrap;\n",
              "      gap: 12px;\n",
              "    }\n",
              "\n",
              "    .colab-df-convert {\n",
              "      background-color: #E8F0FE;\n",
              "      border: none;\n",
              "      border-radius: 50%;\n",
              "      cursor: pointer;\n",
              "      display: none;\n",
              "      fill: #1967D2;\n",
              "      height: 32px;\n",
              "      padding: 0 0 0 0;\n",
              "      width: 32px;\n",
              "    }\n",
              "\n",
              "    .colab-df-convert:hover {\n",
              "      background-color: #E2EBFA;\n",
              "      box-shadow: 0px 1px 2px rgba(60, 64, 67, 0.3), 0px 1px 3px 1px rgba(60, 64, 67, 0.15);\n",
              "      fill: #174EA6;\n",
              "    }\n",
              "\n",
              "    [theme=dark] .colab-df-convert {\n",
              "      background-color: #3B4455;\n",
              "      fill: #D2E3FC;\n",
              "    }\n",
              "\n",
              "    [theme=dark] .colab-df-convert:hover {\n",
              "      background-color: #434B5C;\n",
              "      box-shadow: 0px 1px 3px 1px rgba(0, 0, 0, 0.15);\n",
              "      filter: drop-shadow(0px 1px 2px rgba(0, 0, 0, 0.3));\n",
              "      fill: #FFFFFF;\n",
              "    }\n",
              "  </style>\n",
              "\n",
              "      <script>\n",
              "        const buttonEl =\n",
              "          document.querySelector('#df-48334665-3b21-40db-91db-11390f5b779c button.colab-df-convert');\n",
              "        buttonEl.style.display =\n",
              "          google.colab.kernel.accessAllowed ? 'block' : 'none';\n",
              "\n",
              "        async function convertToInteractive(key) {\n",
              "          const element = document.querySelector('#df-48334665-3b21-40db-91db-11390f5b779c');\n",
              "          const dataTable =\n",
              "            await google.colab.kernel.invokeFunction('convertToInteractive',\n",
              "                                                     [key], {});\n",
              "          if (!dataTable) return;\n",
              "\n",
              "          const docLinkHtml = 'Like what you see? Visit the ' +\n",
              "            '<a target=\"_blank\" href=https://colab.research.google.com/notebooks/data_table.ipynb>data table notebook</a>'\n",
              "            + ' to learn more about interactive tables.';\n",
              "          element.innerHTML = '';\n",
              "          dataTable['output_type'] = 'display_data';\n",
              "          await google.colab.output.renderOutput(dataTable, element);\n",
              "          const docLink = document.createElement('div');\n",
              "          docLink.innerHTML = docLinkHtml;\n",
              "          element.appendChild(docLink);\n",
              "        }\n",
              "      </script>\n",
              "    </div>\n",
              "  </div>\n",
              "  "
            ]
          },
          "metadata": {},
          "execution_count": 27
        }
      ]
    },
    {
      "cell_type": "code",
      "source": [
        "population.country"
      ],
      "metadata": {
        "colab": {
          "base_uri": "https://localhost:8080/"
        },
        "id": "np5xf2YgoRNC",
        "outputId": "30cdd8a2-a46e-43d7-de45-b9181c52e5e5"
      },
      "execution_count": 28,
      "outputs": [
        {
          "output_type": "execute_result",
          "data": {
            "text/plain": [
              "0             Aruba\n",
              "1       Afghanistan\n",
              "2            Angola\n",
              "3           Albania\n",
              "4           Andorra\n",
              "           ...     \n",
              "212           Samoa\n",
              "213           Yemen\n",
              "214    South Africa\n",
              "215          Zambia\n",
              "216        Zimbabwe\n",
              "Name: country, Length: 217, dtype: object"
            ]
          },
          "metadata": {},
          "execution_count": 28
        }
      ]
    },
    {
      "cell_type": "code",
      "source": [
        "urban=pd.read_csv('https://raw.githubusercontent.com/LeoGsilva0518/Learing_DataScience/main/urban_population.csv')\n",
        "urban.head()"
      ],
      "metadata": {
        "colab": {
          "base_uri": "https://localhost:8080/",
          "height": 0
        },
        "id": "Gp4iVnBlqvxy",
        "outputId": "fb09793b-e0ac-4065-b345-aaf03477d2db"
      },
      "execution_count": 29,
      "outputs": [
        {
          "output_type": "execute_result",
          "data": {
            "text/plain": [
              "       country   1959   1960   1961   1962   1963   1964   1965   1966   1967  \\\n",
              "0        Aruba  27.5k  28.1k  28.5k  28.8k  28.9k  29.1k  29.2k  29.4k  29.6k   \n",
              "1  Afghanistan   756k   796k   839k   885k   934k   986k  1.04M   1.1M  1.16M   \n",
              "2       Angola   569k   597k   628k   660k   692k   722k   750k   776k   804k   \n",
              "3      Albania   494k   514k   531k   548k   565k   582k   599k   617k   636k   \n",
              "4      Andorra   7840   8770   9760  10.8k  11.9k  13.1k  14.3k  15.5k  16.8k   \n",
              "\n",
              "   ...   2010   2011   2012   2013   2014   2015   2016   2017   2018   2019  \n",
              "0  ...  43.8k  44.1k  44.4k  44.7k    45k  45.3k  45.6k  45.9k  46.3k  46.7k  \n",
              "1  ...  7.21M  7.53M  7.87M   8.2M  8.54M  8.85M  9.16M  9.48M   9.8M  10.1M  \n",
              "2  ...  14.7M  15.4M  16.1M  16.9M  17.7M  18.5M  19.3M  20.2M  21.1M    22M  \n",
              "3  ...  1.55M  1.58M   1.6M  1.63M  1.65M  1.68M  1.71M  1.73M  1.75M  1.76M  \n",
              "4  ...  74.3k  73.1k  71.5k  70.1k  68.9k  68.2k  67.9k  67.8k  67.9k  67.9k  \n",
              "\n",
              "[5 rows x 62 columns]"
            ],
            "text/html": [
              "\n",
              "  <div id=\"df-bacfa8a9-9404-4acc-aebf-60ca94c04d4e\">\n",
              "    <div class=\"colab-df-container\">\n",
              "      <div>\n",
              "<style scoped>\n",
              "    .dataframe tbody tr th:only-of-type {\n",
              "        vertical-align: middle;\n",
              "    }\n",
              "\n",
              "    .dataframe tbody tr th {\n",
              "        vertical-align: top;\n",
              "    }\n",
              "\n",
              "    .dataframe thead th {\n",
              "        text-align: right;\n",
              "    }\n",
              "</style>\n",
              "<table border=\"1\" class=\"dataframe\">\n",
              "  <thead>\n",
              "    <tr style=\"text-align: right;\">\n",
              "      <th></th>\n",
              "      <th>country</th>\n",
              "      <th>1959</th>\n",
              "      <th>1960</th>\n",
              "      <th>1961</th>\n",
              "      <th>1962</th>\n",
              "      <th>1963</th>\n",
              "      <th>1964</th>\n",
              "      <th>1965</th>\n",
              "      <th>1966</th>\n",
              "      <th>1967</th>\n",
              "      <th>...</th>\n",
              "      <th>2010</th>\n",
              "      <th>2011</th>\n",
              "      <th>2012</th>\n",
              "      <th>2013</th>\n",
              "      <th>2014</th>\n",
              "      <th>2015</th>\n",
              "      <th>2016</th>\n",
              "      <th>2017</th>\n",
              "      <th>2018</th>\n",
              "      <th>2019</th>\n",
              "    </tr>\n",
              "  </thead>\n",
              "  <tbody>\n",
              "    <tr>\n",
              "      <th>0</th>\n",
              "      <td>Aruba</td>\n",
              "      <td>27.5k</td>\n",
              "      <td>28.1k</td>\n",
              "      <td>28.5k</td>\n",
              "      <td>28.8k</td>\n",
              "      <td>28.9k</td>\n",
              "      <td>29.1k</td>\n",
              "      <td>29.2k</td>\n",
              "      <td>29.4k</td>\n",
              "      <td>29.6k</td>\n",
              "      <td>...</td>\n",
              "      <td>43.8k</td>\n",
              "      <td>44.1k</td>\n",
              "      <td>44.4k</td>\n",
              "      <td>44.7k</td>\n",
              "      <td>45k</td>\n",
              "      <td>45.3k</td>\n",
              "      <td>45.6k</td>\n",
              "      <td>45.9k</td>\n",
              "      <td>46.3k</td>\n",
              "      <td>46.7k</td>\n",
              "    </tr>\n",
              "    <tr>\n",
              "      <th>1</th>\n",
              "      <td>Afghanistan</td>\n",
              "      <td>756k</td>\n",
              "      <td>796k</td>\n",
              "      <td>839k</td>\n",
              "      <td>885k</td>\n",
              "      <td>934k</td>\n",
              "      <td>986k</td>\n",
              "      <td>1.04M</td>\n",
              "      <td>1.1M</td>\n",
              "      <td>1.16M</td>\n",
              "      <td>...</td>\n",
              "      <td>7.21M</td>\n",
              "      <td>7.53M</td>\n",
              "      <td>7.87M</td>\n",
              "      <td>8.2M</td>\n",
              "      <td>8.54M</td>\n",
              "      <td>8.85M</td>\n",
              "      <td>9.16M</td>\n",
              "      <td>9.48M</td>\n",
              "      <td>9.8M</td>\n",
              "      <td>10.1M</td>\n",
              "    </tr>\n",
              "    <tr>\n",
              "      <th>2</th>\n",
              "      <td>Angola</td>\n",
              "      <td>569k</td>\n",
              "      <td>597k</td>\n",
              "      <td>628k</td>\n",
              "      <td>660k</td>\n",
              "      <td>692k</td>\n",
              "      <td>722k</td>\n",
              "      <td>750k</td>\n",
              "      <td>776k</td>\n",
              "      <td>804k</td>\n",
              "      <td>...</td>\n",
              "      <td>14.7M</td>\n",
              "      <td>15.4M</td>\n",
              "      <td>16.1M</td>\n",
              "      <td>16.9M</td>\n",
              "      <td>17.7M</td>\n",
              "      <td>18.5M</td>\n",
              "      <td>19.3M</td>\n",
              "      <td>20.2M</td>\n",
              "      <td>21.1M</td>\n",
              "      <td>22M</td>\n",
              "    </tr>\n",
              "    <tr>\n",
              "      <th>3</th>\n",
              "      <td>Albania</td>\n",
              "      <td>494k</td>\n",
              "      <td>514k</td>\n",
              "      <td>531k</td>\n",
              "      <td>548k</td>\n",
              "      <td>565k</td>\n",
              "      <td>582k</td>\n",
              "      <td>599k</td>\n",
              "      <td>617k</td>\n",
              "      <td>636k</td>\n",
              "      <td>...</td>\n",
              "      <td>1.55M</td>\n",
              "      <td>1.58M</td>\n",
              "      <td>1.6M</td>\n",
              "      <td>1.63M</td>\n",
              "      <td>1.65M</td>\n",
              "      <td>1.68M</td>\n",
              "      <td>1.71M</td>\n",
              "      <td>1.73M</td>\n",
              "      <td>1.75M</td>\n",
              "      <td>1.76M</td>\n",
              "    </tr>\n",
              "    <tr>\n",
              "      <th>4</th>\n",
              "      <td>Andorra</td>\n",
              "      <td>7840</td>\n",
              "      <td>8770</td>\n",
              "      <td>9760</td>\n",
              "      <td>10.8k</td>\n",
              "      <td>11.9k</td>\n",
              "      <td>13.1k</td>\n",
              "      <td>14.3k</td>\n",
              "      <td>15.5k</td>\n",
              "      <td>16.8k</td>\n",
              "      <td>...</td>\n",
              "      <td>74.3k</td>\n",
              "      <td>73.1k</td>\n",
              "      <td>71.5k</td>\n",
              "      <td>70.1k</td>\n",
              "      <td>68.9k</td>\n",
              "      <td>68.2k</td>\n",
              "      <td>67.9k</td>\n",
              "      <td>67.8k</td>\n",
              "      <td>67.9k</td>\n",
              "      <td>67.9k</td>\n",
              "    </tr>\n",
              "  </tbody>\n",
              "</table>\n",
              "<p>5 rows × 62 columns</p>\n",
              "</div>\n",
              "      <button class=\"colab-df-convert\" onclick=\"convertToInteractive('df-bacfa8a9-9404-4acc-aebf-60ca94c04d4e')\"\n",
              "              title=\"Convert this dataframe to an interactive table.\"\n",
              "              style=\"display:none;\">\n",
              "        \n",
              "  <svg xmlns=\"http://www.w3.org/2000/svg\" height=\"24px\"viewBox=\"0 0 24 24\"\n",
              "       width=\"24px\">\n",
              "    <path d=\"M0 0h24v24H0V0z\" fill=\"none\"/>\n",
              "    <path d=\"M18.56 5.44l.94 2.06.94-2.06 2.06-.94-2.06-.94-.94-2.06-.94 2.06-2.06.94zm-11 1L8.5 8.5l.94-2.06 2.06-.94-2.06-.94L8.5 2.5l-.94 2.06-2.06.94zm10 10l.94 2.06.94-2.06 2.06-.94-2.06-.94-.94-2.06-.94 2.06-2.06.94z\"/><path d=\"M17.41 7.96l-1.37-1.37c-.4-.4-.92-.59-1.43-.59-.52 0-1.04.2-1.43.59L10.3 9.45l-7.72 7.72c-.78.78-.78 2.05 0 2.83L4 21.41c.39.39.9.59 1.41.59.51 0 1.02-.2 1.41-.59l7.78-7.78 2.81-2.81c.8-.78.8-2.07 0-2.86zM5.41 20L4 18.59l7.72-7.72 1.47 1.35L5.41 20z\"/>\n",
              "  </svg>\n",
              "      </button>\n",
              "      \n",
              "  <style>\n",
              "    .colab-df-container {\n",
              "      display:flex;\n",
              "      flex-wrap:wrap;\n",
              "      gap: 12px;\n",
              "    }\n",
              "\n",
              "    .colab-df-convert {\n",
              "      background-color: #E8F0FE;\n",
              "      border: none;\n",
              "      border-radius: 50%;\n",
              "      cursor: pointer;\n",
              "      display: none;\n",
              "      fill: #1967D2;\n",
              "      height: 32px;\n",
              "      padding: 0 0 0 0;\n",
              "      width: 32px;\n",
              "    }\n",
              "\n",
              "    .colab-df-convert:hover {\n",
              "      background-color: #E2EBFA;\n",
              "      box-shadow: 0px 1px 2px rgba(60, 64, 67, 0.3), 0px 1px 3px 1px rgba(60, 64, 67, 0.15);\n",
              "      fill: #174EA6;\n",
              "    }\n",
              "\n",
              "    [theme=dark] .colab-df-convert {\n",
              "      background-color: #3B4455;\n",
              "      fill: #D2E3FC;\n",
              "    }\n",
              "\n",
              "    [theme=dark] .colab-df-convert:hover {\n",
              "      background-color: #434B5C;\n",
              "      box-shadow: 0px 1px 3px 1px rgba(0, 0, 0, 0.15);\n",
              "      filter: drop-shadow(0px 1px 2px rgba(0, 0, 0, 0.3));\n",
              "      fill: #FFFFFF;\n",
              "    }\n",
              "  </style>\n",
              "\n",
              "      <script>\n",
              "        const buttonEl =\n",
              "          document.querySelector('#df-bacfa8a9-9404-4acc-aebf-60ca94c04d4e button.colab-df-convert');\n",
              "        buttonEl.style.display =\n",
              "          google.colab.kernel.accessAllowed ? 'block' : 'none';\n",
              "\n",
              "        async function convertToInteractive(key) {\n",
              "          const element = document.querySelector('#df-bacfa8a9-9404-4acc-aebf-60ca94c04d4e');\n",
              "          const dataTable =\n",
              "            await google.colab.kernel.invokeFunction('convertToInteractive',\n",
              "                                                     [key], {});\n",
              "          if (!dataTable) return;\n",
              "\n",
              "          const docLinkHtml = 'Like what you see? Visit the ' +\n",
              "            '<a target=\"_blank\" href=https://colab.research.google.com/notebooks/data_table.ipynb>data table notebook</a>'\n",
              "            + ' to learn more about interactive tables.';\n",
              "          element.innerHTML = '';\n",
              "          dataTable['output_type'] = 'display_data';\n",
              "          await google.colab.output.renderOutput(dataTable, element);\n",
              "          const docLink = document.createElement('div');\n",
              "          docLink.innerHTML = docLinkHtml;\n",
              "          element.appendChild(docLink);\n",
              "        }\n",
              "      </script>\n",
              "    </div>\n",
              "  </div>\n",
              "  "
            ]
          },
          "metadata": {},
          "execution_count": 29
        }
      ]
    },
    {
      "cell_type": "code",
      "source": [
        "#verificando a quantidade de colunas.\n",
        "population.index"
      ],
      "metadata": {
        "colab": {
          "base_uri": "https://localhost:8080/"
        },
        "id": "UDX_Zw4Bs2io",
        "outputId": "1247b1f7-cf14-4b84-e6b4-b8b66f72f752"
      },
      "execution_count": 30,
      "outputs": [
        {
          "output_type": "execute_result",
          "data": {
            "text/plain": [
              "RangeIndex(start=0, stop=217, step=1)"
            ]
          },
          "metadata": {},
          "execution_count": 30
        }
      ]
    },
    {
      "cell_type": "code",
      "source": [
        "#verificando a quantidade de colunas.\n",
        "urban.index"
      ],
      "metadata": {
        "colab": {
          "base_uri": "https://localhost:8080/"
        },
        "id": "jzWcbZZ8swXA",
        "outputId": "0641cda0-5717-4d7f-876b-04922f05c271"
      },
      "execution_count": 31,
      "outputs": [
        {
          "output_type": "execute_result",
          "data": {
            "text/plain": [
              "RangeIndex(start=0, stop=215, step=1)"
            ]
          },
          "metadata": {},
          "execution_count": 31
        }
      ]
    },
    {
      "cell_type": "code",
      "source": [
        "population.dtypes"
      ],
      "metadata": {
        "colab": {
          "base_uri": "https://localhost:8080/"
        },
        "id": "aoAIe9MGoECV",
        "outputId": "1a01f385-3323-4a18-dd9e-3127d0bdc7f2"
      },
      "execution_count": 32,
      "outputs": [
        {
          "output_type": "execute_result",
          "data": {
            "text/plain": [
              "country    object\n",
              "1960       object\n",
              "1961       object\n",
              "1962       object\n",
              "1963       object\n",
              "            ...  \n",
              "2015       object\n",
              "2016       object\n",
              "2017       object\n",
              "2018       object\n",
              "2019       object\n",
              "Length: 61, dtype: object"
            ]
          },
          "metadata": {},
          "execution_count": 32
        }
      ]
    },
    {
      "cell_type": "markdown",
      "source": [
        "Verificando os tipos de dados da tabela Urban.\n"
      ],
      "metadata": {
        "id": "5z-oCkJdvW0z"
      }
    },
    {
      "cell_type": "code",
      "source": [
        "urban.dtypes"
      ],
      "metadata": {
        "colab": {
          "base_uri": "https://localhost:8080/"
        },
        "id": "8l72vS7Ajvcp",
        "outputId": "a3ca2817-4cc6-4c59-df6f-e48c93456e5c"
      },
      "execution_count": 33,
      "outputs": [
        {
          "output_type": "execute_result",
          "data": {
            "text/plain": [
              "country    object\n",
              "1959       object\n",
              "1960       object\n",
              "1961       object\n",
              "1962       object\n",
              "            ...  \n",
              "2015       object\n",
              "2016       object\n",
              "2017       object\n",
              "2018       object\n",
              "2019       object\n",
              "Length: 62, dtype: object"
            ]
          },
          "metadata": {},
          "execution_count": 33
        }
      ]
    },
    {
      "cell_type": "markdown",
      "source": [
        "Os dados coletados nas tabeleas *urban* e *population* são do tipo string, sendo necessario conversão para o formato para manibulação númerica."
      ],
      "metadata": {
        "id": "JksA3nv6naj9"
      }
    },
    {
      "cell_type": "markdown",
      "source": [
        "# **Convertendo datatypes - Tabela Urban**\n",
        "\n"
      ],
      "metadata": {
        "id": "RRORKqsZrBMq"
      }
    },
    {
      "cell_type": "code",
      "source": [
        "urban_copy = urban.copy()"
      ],
      "metadata": {
        "id": "wNUVe5TRDzfo"
      },
      "execution_count": 34,
      "outputs": []
    },
    {
      "cell_type": "markdown",
      "source": [
        "Iremos converter os 5 ultimos anos de dados (2015 ao 2019)"
      ],
      "metadata": {
        "id": "Xw9ckGclv8GT"
      }
    },
    {
      "cell_type": "code",
      "source": [
        "urban.index"
      ],
      "metadata": {
        "id": "xk4dr1iirqpr",
        "colab": {
          "base_uri": "https://localhost:8080/"
        },
        "outputId": "16f1a473-fd7e-4f6f-bb39-dbd871844ee1"
      },
      "execution_count": 35,
      "outputs": [
        {
          "output_type": "execute_result",
          "data": {
            "text/plain": [
              "RangeIndex(start=0, stop=215, step=1)"
            ]
          },
          "metadata": {},
          "execution_count": 35
        }
      ]
    },
    {
      "cell_type": "code",
      "source": [
        "#Convertendo coluna 2019\n",
        "urban_2019 = (urban_copy['2019'].replace(r'[kM]+$', '', regex=True).astype(float) * \\\n",
        "              urban_copy['2019'].str.extract(r'[\\d\\.]+([kM]+)', expand=False)\n",
        "                .fillna(1)\n",
        "                .replace(['k','M'], [10**3, 10**6]).astype(int))\n",
        "\n",
        "\n",
        "#Convertendo coluna 2018\n",
        "urban_2018 = (urban_copy['2018'].replace(r'[kM]+$', '', regex=True).astype(float) * \\\n",
        "              urban_copy['2018'].str.extract(r'[\\d\\.]+([kM]+)', expand=False)\n",
        "                .fillna(1)\n",
        "                .replace(['k','M'], [10**3, 10**6]).astype(int))\n",
        "\n",
        "\n",
        "#Convertendo coluna 2017\n",
        "urban_2017 = (urban_copy['2017'].replace(r'[kM]+$', '', regex=True).astype(float) * \\\n",
        "              urban_copy['2017'].str.extract(r'[\\d\\.]+([kM]+)', expand=False)\n",
        "                .fillna(1)\n",
        "                .replace(['k','M'], [10**3, 10**6]).astype(int))\n",
        "\n",
        "\n",
        "\n",
        "#Convertendo coluna 2016\n",
        "urban_2016 = (urban_copy['2016'].replace(r'[kM]+$', '', regex=True).astype(float) * \\\n",
        "              urban_copy['2016'].str.extract(r'[\\d\\.]+([kM]+)', expand=False)\n",
        "                .fillna(1)\n",
        "                .replace(['k','M'], [10**3, 10**6]).astype(int))\n",
        "\n",
        "\n",
        "#Convertendo coluna 2015\n",
        "urban_2015 = (urban_copy['2015'].replace(r'[kM]+$', '', regex=True).astype(float) * \\\n",
        "              urban_copy['2015'].str.extract(r'[\\d\\.]+([kM]+)', expand=False)\n",
        "                .fillna(1)\n",
        "                .replace(['k','M'], [10**3, 10**6]).astype(int))\n",
        "\n"
      ],
      "metadata": {
        "id": "RMSCsmIUwAtl"
      },
      "execution_count": 36,
      "outputs": []
    },
    {
      "cell_type": "code",
      "source": [
        "urban_2019"
      ],
      "metadata": {
        "id": "FhA6wZGbI9dZ",
        "colab": {
          "base_uri": "https://localhost:8080/"
        },
        "outputId": "dce4aef3-2944-444c-8ace-dab09e4e8ec6"
      },
      "execution_count": 37,
      "outputs": [
        {
          "output_type": "execute_result",
          "data": {
            "text/plain": [
              "0         46700.0\n",
              "1      10100000.0\n",
              "2      22000000.0\n",
              "3       1760000.0\n",
              "4         67900.0\n",
              "          ...    \n",
              "210       35500.0\n",
              "211    11300000.0\n",
              "212    39900000.0\n",
              "213     8200000.0\n",
              "214     4790000.0\n",
              "Name: 2019, Length: 215, dtype: float64"
            ]
          },
          "metadata": {},
          "execution_count": 37
        }
      ]
    },
    {
      "cell_type": "markdown",
      "source": [
        "Crindo listas dos 6 colunas utilizadas"
      ],
      "metadata": {
        "id": "09WcOH-URRYd"
      }
    },
    {
      "cell_type": "code",
      "source": [
        "#urban_2019 = urban_2019.tolist()\n",
        "#urban_2018 = urban_2018.tolist()\n",
        "#urban_2017 = urban_2017.tolist()\n",
        "#urban_2016 = urban_2016.tolist()\n",
        "#urban_2015 = urban_2015.tolist()\n",
        "\n",
        "#Country = urban.country.tolist()"
      ],
      "metadata": {
        "id": "ZltZmYg37D6h"
      },
      "execution_count": 38,
      "outputs": []
    },
    {
      "cell_type": "code",
      "source": [
        "Country = urban.country.tolist()"
      ],
      "metadata": {
        "id": "bqgD23gygjn_"
      },
      "execution_count": 39,
      "outputs": []
    },
    {
      "cell_type": "markdown",
      "source": [
        "# Criando um dataframe *urban* reduzido dados de 2015-2019"
      ],
      "metadata": {
        "id": "6fC-NAxLRf0z"
      }
    },
    {
      "cell_type": "code",
      "source": [
        "urban = pd.DataFrame(zip(Country, urban_2015, urban_2016, urban_2017, urban_2018, urban_2019),\n",
        "columns=['country', 'urban_2015', 'urban_2016', 'urban_2017', 'urban_2018', 'urban_2019'])"
      ],
      "metadata": {
        "id": "32SxD4KYMfvm"
      },
      "execution_count": 40,
      "outputs": []
    },
    {
      "cell_type": "code",
      "source": [
        "urban.head"
      ],
      "metadata": {
        "colab": {
          "base_uri": "https://localhost:8080/"
        },
        "id": "BZkucs2O9EOQ",
        "outputId": "b88c86be-6fef-4f45-d634-98f070a1e2f2"
      },
      "execution_count": 41,
      "outputs": [
        {
          "output_type": "execute_result",
          "data": {
            "text/plain": [
              "<bound method NDFrame.head of           country  urban_2015  urban_2016  urban_2017  urban_2018  urban_2019\n",
              "0           Aruba     45300.0     45600.0     45900.0     46300.0     46700.0\n",
              "1     Afghanistan   8850000.0   9160000.0   9480000.0   9800000.0  10100000.0\n",
              "2          Angola  18500000.0  19300000.0  20200000.0  21100000.0  22000000.0\n",
              "3         Albania   1680000.0   1710000.0   1730000.0   1750000.0   1760000.0\n",
              "4         Andorra     68200.0     67900.0     67800.0     67900.0     67900.0\n",
              "..            ...         ...         ...         ...         ...         ...\n",
              "210         Samoa     36300.0     36000.0     35800.0     35600.0     35500.0\n",
              "211         Yemen   9620000.0  10000000.0  10400000.0  10900000.0  11300000.0\n",
              "212  South Africa  36700000.0  37500000.0  38300000.0  39100000.0  39900000.0\n",
              "213        Zambia   6940000.0   7240000.0   7550000.0   7870000.0   8200000.0\n",
              "214      Zimbabwe   4530000.0   4590000.0   4650000.0   4720000.0   4790000.0\n",
              "\n",
              "[215 rows x 6 columns]>"
            ]
          },
          "metadata": {},
          "execution_count": 41
        }
      ]
    },
    {
      "cell_type": "markdown",
      "source": [
        "# **Covertendo dados da tabela - *Population***"
      ],
      "metadata": {
        "id": "91iYNe5FR8o9"
      }
    },
    {
      "cell_type": "code",
      "source": [
        "population_copy = population.copy()"
      ],
      "metadata": {
        "id": "sfKEZjSZSRKq"
      },
      "execution_count": 42,
      "outputs": []
    },
    {
      "cell_type": "code",
      "source": [
        "population_copy"
      ],
      "metadata": {
        "colab": {
          "base_uri": "https://localhost:8080/",
          "height": 423
        },
        "id": "-DdEveFwS-L_",
        "outputId": "2cd8afb3-7f2e-4b4c-e990-414ecfccf06b"
      },
      "execution_count": 43,
      "outputs": [
        {
          "output_type": "execute_result",
          "data": {
            "text/plain": [
              "          country  1960  1961   1962   1963   1964   1965    1966     1967  \\\n",
              "0           Aruba  2.24  1.43  0.824   0.58  0.574    0.6   0.591    0.572   \n",
              "1     Afghanistan   1.9  1.97   2.03   2.09   2.15   2.17    2.19     2.25   \n",
              "2          Angola  1.39  1.38   1.26  0.974  0.618  0.186  −0.119  −0.0427   \n",
              "3         Albania  3.12  3.06   2.95   2.88   2.75   2.63    2.63     2.84   \n",
              "4         Andorra  6.97  6.73   6.47   6.25   5.98   5.78    5.52     5.28   \n",
              "..            ...   ...   ...    ...    ...    ...    ...     ...      ...   \n",
              "212         Samoa  3.16  3.21   3.22   3.12   2.96   2.81    2.65     2.43   \n",
              "213         Yemen  1.45  1.48   1.51   1.52   1.52   1.53    1.56     1.58   \n",
              "214  South Africa  2.45  2.49   2.51   2.54   2.55   2.56    2.57     2.59   \n",
              "215        Zambia     3     3      3   3.02   3.05   3.07     3.1     3.14   \n",
              "216      Zimbabwe  3.34  3.38    3.4   3.39   3.37   3.35    3.33     3.33   \n",
              "\n",
              "      1968  ...    2010    2011    2012    2013    2014    2015    2016  \\\n",
              "0     0.61  ...   0.378   0.503   0.583   0.591   0.541   0.503   0.472   \n",
              "1     2.38  ...    3.14    3.41    3.49    3.36    3.08    2.78    2.55   \n",
              "2    0.548  ...    3.63     3.6    3.55     3.5    3.44    3.38    3.32   \n",
              "3      2.9  ...  −0.269  −0.165  −0.183  −0.207  −0.291   −0.16  −0.092   \n",
              "4     5.19  ...  −0.839   −1.59   −2.03   −1.95   −1.55  −0.899  −0.386   \n",
              "..     ...  ...     ...     ...     ...     ...     ...     ...     ...   \n",
              "212   2.17  ...   0.817    0.86   0.855   0.788   0.669   0.531    0.42   \n",
              "213   1.57  ...    2.78    2.76    2.72    2.65    2.58     2.5    2.42   \n",
              "214   2.61  ...    1.52    1.58     1.6    1.58    1.53    1.47    1.42   \n",
              "215   3.19  ...    3.02     3.1    3.14    3.12    3.07       3    2.95   \n",
              "216   3.37  ...    1.54     1.7    1.78    1.75    1.66    1.55    1.46   \n",
              "\n",
              "       2017    2018    2019  \n",
              "0     0.459   0.437   0.428  \n",
              "1      2.38    2.31     2.3  \n",
              "2      3.28    3.24    3.22  \n",
              "3    −0.247  −0.426  −0.574  \n",
              "4    0.0143   0.179   0.154  \n",
              "..      ...     ...     ...  \n",
              "212   0.393   0.491   0.666  \n",
              "213    2.36     2.3    2.25  \n",
              "214    1.36    1.32    1.27  \n",
              "215    2.91    2.89    2.89  \n",
              "216    1.41    1.42    1.47  \n",
              "\n",
              "[217 rows x 61 columns]"
            ],
            "text/html": [
              "\n",
              "  <div id=\"df-9f656ada-4a71-42ed-9202-f9955f47ea35\">\n",
              "    <div class=\"colab-df-container\">\n",
              "      <div>\n",
              "<style scoped>\n",
              "    .dataframe tbody tr th:only-of-type {\n",
              "        vertical-align: middle;\n",
              "    }\n",
              "\n",
              "    .dataframe tbody tr th {\n",
              "        vertical-align: top;\n",
              "    }\n",
              "\n",
              "    .dataframe thead th {\n",
              "        text-align: right;\n",
              "    }\n",
              "</style>\n",
              "<table border=\"1\" class=\"dataframe\">\n",
              "  <thead>\n",
              "    <tr style=\"text-align: right;\">\n",
              "      <th></th>\n",
              "      <th>country</th>\n",
              "      <th>1960</th>\n",
              "      <th>1961</th>\n",
              "      <th>1962</th>\n",
              "      <th>1963</th>\n",
              "      <th>1964</th>\n",
              "      <th>1965</th>\n",
              "      <th>1966</th>\n",
              "      <th>1967</th>\n",
              "      <th>1968</th>\n",
              "      <th>...</th>\n",
              "      <th>2010</th>\n",
              "      <th>2011</th>\n",
              "      <th>2012</th>\n",
              "      <th>2013</th>\n",
              "      <th>2014</th>\n",
              "      <th>2015</th>\n",
              "      <th>2016</th>\n",
              "      <th>2017</th>\n",
              "      <th>2018</th>\n",
              "      <th>2019</th>\n",
              "    </tr>\n",
              "  </thead>\n",
              "  <tbody>\n",
              "    <tr>\n",
              "      <th>0</th>\n",
              "      <td>Aruba</td>\n",
              "      <td>2.24</td>\n",
              "      <td>1.43</td>\n",
              "      <td>0.824</td>\n",
              "      <td>0.58</td>\n",
              "      <td>0.574</td>\n",
              "      <td>0.6</td>\n",
              "      <td>0.591</td>\n",
              "      <td>0.572</td>\n",
              "      <td>0.61</td>\n",
              "      <td>...</td>\n",
              "      <td>0.378</td>\n",
              "      <td>0.503</td>\n",
              "      <td>0.583</td>\n",
              "      <td>0.591</td>\n",
              "      <td>0.541</td>\n",
              "      <td>0.503</td>\n",
              "      <td>0.472</td>\n",
              "      <td>0.459</td>\n",
              "      <td>0.437</td>\n",
              "      <td>0.428</td>\n",
              "    </tr>\n",
              "    <tr>\n",
              "      <th>1</th>\n",
              "      <td>Afghanistan</td>\n",
              "      <td>1.9</td>\n",
              "      <td>1.97</td>\n",
              "      <td>2.03</td>\n",
              "      <td>2.09</td>\n",
              "      <td>2.15</td>\n",
              "      <td>2.17</td>\n",
              "      <td>2.19</td>\n",
              "      <td>2.25</td>\n",
              "      <td>2.38</td>\n",
              "      <td>...</td>\n",
              "      <td>3.14</td>\n",
              "      <td>3.41</td>\n",
              "      <td>3.49</td>\n",
              "      <td>3.36</td>\n",
              "      <td>3.08</td>\n",
              "      <td>2.78</td>\n",
              "      <td>2.55</td>\n",
              "      <td>2.38</td>\n",
              "      <td>2.31</td>\n",
              "      <td>2.3</td>\n",
              "    </tr>\n",
              "    <tr>\n",
              "      <th>2</th>\n",
              "      <td>Angola</td>\n",
              "      <td>1.39</td>\n",
              "      <td>1.38</td>\n",
              "      <td>1.26</td>\n",
              "      <td>0.974</td>\n",
              "      <td>0.618</td>\n",
              "      <td>0.186</td>\n",
              "      <td>−0.119</td>\n",
              "      <td>−0.0427</td>\n",
              "      <td>0.548</td>\n",
              "      <td>...</td>\n",
              "      <td>3.63</td>\n",
              "      <td>3.6</td>\n",
              "      <td>3.55</td>\n",
              "      <td>3.5</td>\n",
              "      <td>3.44</td>\n",
              "      <td>3.38</td>\n",
              "      <td>3.32</td>\n",
              "      <td>3.28</td>\n",
              "      <td>3.24</td>\n",
              "      <td>3.22</td>\n",
              "    </tr>\n",
              "    <tr>\n",
              "      <th>3</th>\n",
              "      <td>Albania</td>\n",
              "      <td>3.12</td>\n",
              "      <td>3.06</td>\n",
              "      <td>2.95</td>\n",
              "      <td>2.88</td>\n",
              "      <td>2.75</td>\n",
              "      <td>2.63</td>\n",
              "      <td>2.63</td>\n",
              "      <td>2.84</td>\n",
              "      <td>2.9</td>\n",
              "      <td>...</td>\n",
              "      <td>−0.269</td>\n",
              "      <td>−0.165</td>\n",
              "      <td>−0.183</td>\n",
              "      <td>−0.207</td>\n",
              "      <td>−0.291</td>\n",
              "      <td>−0.16</td>\n",
              "      <td>−0.092</td>\n",
              "      <td>−0.247</td>\n",
              "      <td>−0.426</td>\n",
              "      <td>−0.574</td>\n",
              "    </tr>\n",
              "    <tr>\n",
              "      <th>4</th>\n",
              "      <td>Andorra</td>\n",
              "      <td>6.97</td>\n",
              "      <td>6.73</td>\n",
              "      <td>6.47</td>\n",
              "      <td>6.25</td>\n",
              "      <td>5.98</td>\n",
              "      <td>5.78</td>\n",
              "      <td>5.52</td>\n",
              "      <td>5.28</td>\n",
              "      <td>5.19</td>\n",
              "      <td>...</td>\n",
              "      <td>−0.839</td>\n",
              "      <td>−1.59</td>\n",
              "      <td>−2.03</td>\n",
              "      <td>−1.95</td>\n",
              "      <td>−1.55</td>\n",
              "      <td>−0.899</td>\n",
              "      <td>−0.386</td>\n",
              "      <td>0.0143</td>\n",
              "      <td>0.179</td>\n",
              "      <td>0.154</td>\n",
              "    </tr>\n",
              "    <tr>\n",
              "      <th>...</th>\n",
              "      <td>...</td>\n",
              "      <td>...</td>\n",
              "      <td>...</td>\n",
              "      <td>...</td>\n",
              "      <td>...</td>\n",
              "      <td>...</td>\n",
              "      <td>...</td>\n",
              "      <td>...</td>\n",
              "      <td>...</td>\n",
              "      <td>...</td>\n",
              "      <td>...</td>\n",
              "      <td>...</td>\n",
              "      <td>...</td>\n",
              "      <td>...</td>\n",
              "      <td>...</td>\n",
              "      <td>...</td>\n",
              "      <td>...</td>\n",
              "      <td>...</td>\n",
              "      <td>...</td>\n",
              "      <td>...</td>\n",
              "      <td>...</td>\n",
              "    </tr>\n",
              "    <tr>\n",
              "      <th>212</th>\n",
              "      <td>Samoa</td>\n",
              "      <td>3.16</td>\n",
              "      <td>3.21</td>\n",
              "      <td>3.22</td>\n",
              "      <td>3.12</td>\n",
              "      <td>2.96</td>\n",
              "      <td>2.81</td>\n",
              "      <td>2.65</td>\n",
              "      <td>2.43</td>\n",
              "      <td>2.17</td>\n",
              "      <td>...</td>\n",
              "      <td>0.817</td>\n",
              "      <td>0.86</td>\n",
              "      <td>0.855</td>\n",
              "      <td>0.788</td>\n",
              "      <td>0.669</td>\n",
              "      <td>0.531</td>\n",
              "      <td>0.42</td>\n",
              "      <td>0.393</td>\n",
              "      <td>0.491</td>\n",
              "      <td>0.666</td>\n",
              "    </tr>\n",
              "    <tr>\n",
              "      <th>213</th>\n",
              "      <td>Yemen</td>\n",
              "      <td>1.45</td>\n",
              "      <td>1.48</td>\n",
              "      <td>1.51</td>\n",
              "      <td>1.52</td>\n",
              "      <td>1.52</td>\n",
              "      <td>1.53</td>\n",
              "      <td>1.56</td>\n",
              "      <td>1.58</td>\n",
              "      <td>1.57</td>\n",
              "      <td>...</td>\n",
              "      <td>2.78</td>\n",
              "      <td>2.76</td>\n",
              "      <td>2.72</td>\n",
              "      <td>2.65</td>\n",
              "      <td>2.58</td>\n",
              "      <td>2.5</td>\n",
              "      <td>2.42</td>\n",
              "      <td>2.36</td>\n",
              "      <td>2.3</td>\n",
              "      <td>2.25</td>\n",
              "    </tr>\n",
              "    <tr>\n",
              "      <th>214</th>\n",
              "      <td>South Africa</td>\n",
              "      <td>2.45</td>\n",
              "      <td>2.49</td>\n",
              "      <td>2.51</td>\n",
              "      <td>2.54</td>\n",
              "      <td>2.55</td>\n",
              "      <td>2.56</td>\n",
              "      <td>2.57</td>\n",
              "      <td>2.59</td>\n",
              "      <td>2.61</td>\n",
              "      <td>...</td>\n",
              "      <td>1.52</td>\n",
              "      <td>1.58</td>\n",
              "      <td>1.6</td>\n",
              "      <td>1.58</td>\n",
              "      <td>1.53</td>\n",
              "      <td>1.47</td>\n",
              "      <td>1.42</td>\n",
              "      <td>1.36</td>\n",
              "      <td>1.32</td>\n",
              "      <td>1.27</td>\n",
              "    </tr>\n",
              "    <tr>\n",
              "      <th>215</th>\n",
              "      <td>Zambia</td>\n",
              "      <td>3</td>\n",
              "      <td>3</td>\n",
              "      <td>3</td>\n",
              "      <td>3.02</td>\n",
              "      <td>3.05</td>\n",
              "      <td>3.07</td>\n",
              "      <td>3.1</td>\n",
              "      <td>3.14</td>\n",
              "      <td>3.19</td>\n",
              "      <td>...</td>\n",
              "      <td>3.02</td>\n",
              "      <td>3.1</td>\n",
              "      <td>3.14</td>\n",
              "      <td>3.12</td>\n",
              "      <td>3.07</td>\n",
              "      <td>3</td>\n",
              "      <td>2.95</td>\n",
              "      <td>2.91</td>\n",
              "      <td>2.89</td>\n",
              "      <td>2.89</td>\n",
              "    </tr>\n",
              "    <tr>\n",
              "      <th>216</th>\n",
              "      <td>Zimbabwe</td>\n",
              "      <td>3.34</td>\n",
              "      <td>3.38</td>\n",
              "      <td>3.4</td>\n",
              "      <td>3.39</td>\n",
              "      <td>3.37</td>\n",
              "      <td>3.35</td>\n",
              "      <td>3.33</td>\n",
              "      <td>3.33</td>\n",
              "      <td>3.37</td>\n",
              "      <td>...</td>\n",
              "      <td>1.54</td>\n",
              "      <td>1.7</td>\n",
              "      <td>1.78</td>\n",
              "      <td>1.75</td>\n",
              "      <td>1.66</td>\n",
              "      <td>1.55</td>\n",
              "      <td>1.46</td>\n",
              "      <td>1.41</td>\n",
              "      <td>1.42</td>\n",
              "      <td>1.47</td>\n",
              "    </tr>\n",
              "  </tbody>\n",
              "</table>\n",
              "<p>217 rows × 61 columns</p>\n",
              "</div>\n",
              "      <button class=\"colab-df-convert\" onclick=\"convertToInteractive('df-9f656ada-4a71-42ed-9202-f9955f47ea35')\"\n",
              "              title=\"Convert this dataframe to an interactive table.\"\n",
              "              style=\"display:none;\">\n",
              "        \n",
              "  <svg xmlns=\"http://www.w3.org/2000/svg\" height=\"24px\"viewBox=\"0 0 24 24\"\n",
              "       width=\"24px\">\n",
              "    <path d=\"M0 0h24v24H0V0z\" fill=\"none\"/>\n",
              "    <path d=\"M18.56 5.44l.94 2.06.94-2.06 2.06-.94-2.06-.94-.94-2.06-.94 2.06-2.06.94zm-11 1L8.5 8.5l.94-2.06 2.06-.94-2.06-.94L8.5 2.5l-.94 2.06-2.06.94zm10 10l.94 2.06.94-2.06 2.06-.94-2.06-.94-.94-2.06-.94 2.06-2.06.94z\"/><path d=\"M17.41 7.96l-1.37-1.37c-.4-.4-.92-.59-1.43-.59-.52 0-1.04.2-1.43.59L10.3 9.45l-7.72 7.72c-.78.78-.78 2.05 0 2.83L4 21.41c.39.39.9.59 1.41.59.51 0 1.02-.2 1.41-.59l7.78-7.78 2.81-2.81c.8-.78.8-2.07 0-2.86zM5.41 20L4 18.59l7.72-7.72 1.47 1.35L5.41 20z\"/>\n",
              "  </svg>\n",
              "      </button>\n",
              "      \n",
              "  <style>\n",
              "    .colab-df-container {\n",
              "      display:flex;\n",
              "      flex-wrap:wrap;\n",
              "      gap: 12px;\n",
              "    }\n",
              "\n",
              "    .colab-df-convert {\n",
              "      background-color: #E8F0FE;\n",
              "      border: none;\n",
              "      border-radius: 50%;\n",
              "      cursor: pointer;\n",
              "      display: none;\n",
              "      fill: #1967D2;\n",
              "      height: 32px;\n",
              "      padding: 0 0 0 0;\n",
              "      width: 32px;\n",
              "    }\n",
              "\n",
              "    .colab-df-convert:hover {\n",
              "      background-color: #E2EBFA;\n",
              "      box-shadow: 0px 1px 2px rgba(60, 64, 67, 0.3), 0px 1px 3px 1px rgba(60, 64, 67, 0.15);\n",
              "      fill: #174EA6;\n",
              "    }\n",
              "\n",
              "    [theme=dark] .colab-df-convert {\n",
              "      background-color: #3B4455;\n",
              "      fill: #D2E3FC;\n",
              "    }\n",
              "\n",
              "    [theme=dark] .colab-df-convert:hover {\n",
              "      background-color: #434B5C;\n",
              "      box-shadow: 0px 1px 3px 1px rgba(0, 0, 0, 0.15);\n",
              "      filter: drop-shadow(0px 1px 2px rgba(0, 0, 0, 0.3));\n",
              "      fill: #FFFFFF;\n",
              "    }\n",
              "  </style>\n",
              "\n",
              "      <script>\n",
              "        const buttonEl =\n",
              "          document.querySelector('#df-9f656ada-4a71-42ed-9202-f9955f47ea35 button.colab-df-convert');\n",
              "        buttonEl.style.display =\n",
              "          google.colab.kernel.accessAllowed ? 'block' : 'none';\n",
              "\n",
              "        async function convertToInteractive(key) {\n",
              "          const element = document.querySelector('#df-9f656ada-4a71-42ed-9202-f9955f47ea35');\n",
              "          const dataTable =\n",
              "            await google.colab.kernel.invokeFunction('convertToInteractive',\n",
              "                                                     [key], {});\n",
              "          if (!dataTable) return;\n",
              "\n",
              "          const docLinkHtml = 'Like what you see? Visit the ' +\n",
              "            '<a target=\"_blank\" href=https://colab.research.google.com/notebooks/data_table.ipynb>data table notebook</a>'\n",
              "            + ' to learn more about interactive tables.';\n",
              "          element.innerHTML = '';\n",
              "          dataTable['output_type'] = 'display_data';\n",
              "          await google.colab.output.renderOutput(dataTable, element);\n",
              "          const docLink = document.createElement('div');\n",
              "          docLink.innerHTML = docLinkHtml;\n",
              "          element.appendChild(docLink);\n",
              "        }\n",
              "      </script>\n",
              "    </div>\n",
              "  </div>\n",
              "  "
            ]
          },
          "metadata": {},
          "execution_count": 43
        }
      ]
    },
    {
      "cell_type": "markdown",
      "source": [
        "# **Eliminando caracteres da string**"
      ],
      "metadata": {
        "id": "7JH9X7sMe5AH"
      }
    },
    {
      "cell_type": "markdown",
      "source": [],
      "metadata": {
        "id": "8K8H5qESe4-q"
      }
    },
    {
      "cell_type": "code",
      "source": [
        "population_2015 = population_copy['2015'].str.replace('−','-')\n",
        "population_2016 = population_copy['2016'].str.replace('−','-')\n",
        "population_2017 = population_copy['2017'].str.replace('−','-')\n",
        "population_2018 = population_copy['2018'].str.replace('−','-')\n",
        "population_2019 = population_copy['2019'].str.replace('−','-')"
      ],
      "metadata": {
        "id": "SmxZVTvzT9Yo"
      },
      "execution_count": 44,
      "outputs": []
    },
    {
      "cell_type": "markdown",
      "source": [
        "# **Fazendo a conversão de string para float**"
      ],
      "metadata": {
        "id": "vC8weWYLfAEb"
      }
    },
    {
      "cell_type": "code",
      "source": [
        "population_2015.astype({'2015':'float'}).dtypes\n",
        "population_2016.astype({'2016':'float'}).dtypes\n",
        "population_2017.astype({'2017':'float'}).dtypes\n",
        "population_2018.astype({'2018':'float'}).dtypes\n",
        "population_2019.astype({'2019':'float'}).dtypes"
      ],
      "metadata": {
        "colab": {
          "base_uri": "https://localhost:8080/"
        },
        "id": "uStSYXODT9Xp",
        "outputId": "17539e87-3ee5-4830-b79f-4c3b9a4ff85a"
      },
      "execution_count": 45,
      "outputs": [
        {
          "output_type": "execute_result",
          "data": {
            "text/plain": [
              "dtype('float64')"
            ]
          },
          "metadata": {},
          "execution_count": 45
        }
      ]
    },
    {
      "cell_type": "markdown",
      "source": [
        "# Criando um dataframe *Population* reduzido dados de 2015-2019\n",
        "\n",
        "> Bloco com recuo\n",
        "\n"
      ],
      "metadata": {
        "id": "L7TSz05HfVGJ"
      }
    },
    {
      "cell_type": "code",
      "source": [
        "country = population.country.tolist()"
      ],
      "metadata": {
        "id": "KPDfM6Unfp4a"
      },
      "execution_count": 46,
      "outputs": []
    },
    {
      "cell_type": "code",
      "source": [
        "population = pd.DataFrame(zip(country, population_2015, population_2016, population_2017, population_2018, population_2019),\n",
        "columns=['country', '2015', '2016', '2017', '2018', '2019'])"
      ],
      "metadata": {
        "id": "m0FKDPRMgB9n"
      },
      "execution_count": 47,
      "outputs": []
    },
    {
      "cell_type": "code",
      "source": [
        "population.head()"
      ],
      "metadata": {
        "colab": {
          "base_uri": "https://localhost:8080/",
          "height": 206
        },
        "id": "TXhDgW0wgXWD",
        "outputId": "7d83fbb0-c200-489a-ca5d-d996d9c461db"
      },
      "execution_count": 48,
      "outputs": [
        {
          "output_type": "execute_result",
          "data": {
            "text/plain": [
              "       country    2015    2016    2017    2018    2019\n",
              "0        Aruba   0.503   0.472   0.459   0.437   0.428\n",
              "1  Afghanistan    2.78    2.55    2.38    2.31     2.3\n",
              "2       Angola    3.38    3.32    3.28    3.24    3.22\n",
              "3      Albania   -0.16  -0.092  -0.247  -0.426  -0.574\n",
              "4      Andorra  -0.899  -0.386  0.0143   0.179   0.154"
            ],
            "text/html": [
              "\n",
              "  <div id=\"df-969ca119-8b8f-49bb-8df0-32e75fde1591\">\n",
              "    <div class=\"colab-df-container\">\n",
              "      <div>\n",
              "<style scoped>\n",
              "    .dataframe tbody tr th:only-of-type {\n",
              "        vertical-align: middle;\n",
              "    }\n",
              "\n",
              "    .dataframe tbody tr th {\n",
              "        vertical-align: top;\n",
              "    }\n",
              "\n",
              "    .dataframe thead th {\n",
              "        text-align: right;\n",
              "    }\n",
              "</style>\n",
              "<table border=\"1\" class=\"dataframe\">\n",
              "  <thead>\n",
              "    <tr style=\"text-align: right;\">\n",
              "      <th></th>\n",
              "      <th>country</th>\n",
              "      <th>2015</th>\n",
              "      <th>2016</th>\n",
              "      <th>2017</th>\n",
              "      <th>2018</th>\n",
              "      <th>2019</th>\n",
              "    </tr>\n",
              "  </thead>\n",
              "  <tbody>\n",
              "    <tr>\n",
              "      <th>0</th>\n",
              "      <td>Aruba</td>\n",
              "      <td>0.503</td>\n",
              "      <td>0.472</td>\n",
              "      <td>0.459</td>\n",
              "      <td>0.437</td>\n",
              "      <td>0.428</td>\n",
              "    </tr>\n",
              "    <tr>\n",
              "      <th>1</th>\n",
              "      <td>Afghanistan</td>\n",
              "      <td>2.78</td>\n",
              "      <td>2.55</td>\n",
              "      <td>2.38</td>\n",
              "      <td>2.31</td>\n",
              "      <td>2.3</td>\n",
              "    </tr>\n",
              "    <tr>\n",
              "      <th>2</th>\n",
              "      <td>Angola</td>\n",
              "      <td>3.38</td>\n",
              "      <td>3.32</td>\n",
              "      <td>3.28</td>\n",
              "      <td>3.24</td>\n",
              "      <td>3.22</td>\n",
              "    </tr>\n",
              "    <tr>\n",
              "      <th>3</th>\n",
              "      <td>Albania</td>\n",
              "      <td>-0.16</td>\n",
              "      <td>-0.092</td>\n",
              "      <td>-0.247</td>\n",
              "      <td>-0.426</td>\n",
              "      <td>-0.574</td>\n",
              "    </tr>\n",
              "    <tr>\n",
              "      <th>4</th>\n",
              "      <td>Andorra</td>\n",
              "      <td>-0.899</td>\n",
              "      <td>-0.386</td>\n",
              "      <td>0.0143</td>\n",
              "      <td>0.179</td>\n",
              "      <td>0.154</td>\n",
              "    </tr>\n",
              "  </tbody>\n",
              "</table>\n",
              "</div>\n",
              "      <button class=\"colab-df-convert\" onclick=\"convertToInteractive('df-969ca119-8b8f-49bb-8df0-32e75fde1591')\"\n",
              "              title=\"Convert this dataframe to an interactive table.\"\n",
              "              style=\"display:none;\">\n",
              "        \n",
              "  <svg xmlns=\"http://www.w3.org/2000/svg\" height=\"24px\"viewBox=\"0 0 24 24\"\n",
              "       width=\"24px\">\n",
              "    <path d=\"M0 0h24v24H0V0z\" fill=\"none\"/>\n",
              "    <path d=\"M18.56 5.44l.94 2.06.94-2.06 2.06-.94-2.06-.94-.94-2.06-.94 2.06-2.06.94zm-11 1L8.5 8.5l.94-2.06 2.06-.94-2.06-.94L8.5 2.5l-.94 2.06-2.06.94zm10 10l.94 2.06.94-2.06 2.06-.94-2.06-.94-.94-2.06-.94 2.06-2.06.94z\"/><path d=\"M17.41 7.96l-1.37-1.37c-.4-.4-.92-.59-1.43-.59-.52 0-1.04.2-1.43.59L10.3 9.45l-7.72 7.72c-.78.78-.78 2.05 0 2.83L4 21.41c.39.39.9.59 1.41.59.51 0 1.02-.2 1.41-.59l7.78-7.78 2.81-2.81c.8-.78.8-2.07 0-2.86zM5.41 20L4 18.59l7.72-7.72 1.47 1.35L5.41 20z\"/>\n",
              "  </svg>\n",
              "      </button>\n",
              "      \n",
              "  <style>\n",
              "    .colab-df-container {\n",
              "      display:flex;\n",
              "      flex-wrap:wrap;\n",
              "      gap: 12px;\n",
              "    }\n",
              "\n",
              "    .colab-df-convert {\n",
              "      background-color: #E8F0FE;\n",
              "      border: none;\n",
              "      border-radius: 50%;\n",
              "      cursor: pointer;\n",
              "      display: none;\n",
              "      fill: #1967D2;\n",
              "      height: 32px;\n",
              "      padding: 0 0 0 0;\n",
              "      width: 32px;\n",
              "    }\n",
              "\n",
              "    .colab-df-convert:hover {\n",
              "      background-color: #E2EBFA;\n",
              "      box-shadow: 0px 1px 2px rgba(60, 64, 67, 0.3), 0px 1px 3px 1px rgba(60, 64, 67, 0.15);\n",
              "      fill: #174EA6;\n",
              "    }\n",
              "\n",
              "    [theme=dark] .colab-df-convert {\n",
              "      background-color: #3B4455;\n",
              "      fill: #D2E3FC;\n",
              "    }\n",
              "\n",
              "    [theme=dark] .colab-df-convert:hover {\n",
              "      background-color: #434B5C;\n",
              "      box-shadow: 0px 1px 3px 1px rgba(0, 0, 0, 0.15);\n",
              "      filter: drop-shadow(0px 1px 2px rgba(0, 0, 0, 0.3));\n",
              "      fill: #FFFFFF;\n",
              "    }\n",
              "  </style>\n",
              "\n",
              "      <script>\n",
              "        const buttonEl =\n",
              "          document.querySelector('#df-969ca119-8b8f-49bb-8df0-32e75fde1591 button.colab-df-convert');\n",
              "        buttonEl.style.display =\n",
              "          google.colab.kernel.accessAllowed ? 'block' : 'none';\n",
              "\n",
              "        async function convertToInteractive(key) {\n",
              "          const element = document.querySelector('#df-969ca119-8b8f-49bb-8df0-32e75fde1591');\n",
              "          const dataTable =\n",
              "            await google.colab.kernel.invokeFunction('convertToInteractive',\n",
              "                                                     [key], {});\n",
              "          if (!dataTable) return;\n",
              "\n",
              "          const docLinkHtml = 'Like what you see? Visit the ' +\n",
              "            '<a target=\"_blank\" href=https://colab.research.google.com/notebooks/data_table.ipynb>data table notebook</a>'\n",
              "            + ' to learn more about interactive tables.';\n",
              "          element.innerHTML = '';\n",
              "          dataTable['output_type'] = 'display_data';\n",
              "          await google.colab.output.renderOutput(dataTable, element);\n",
              "          const docLink = document.createElement('div');\n",
              "          docLink.innerHTML = docLinkHtml;\n",
              "          element.appendChild(docLink);\n",
              "        }\n",
              "      </script>\n",
              "    </div>\n",
              "  </div>\n",
              "  "
            ]
          },
          "metadata": {},
          "execution_count": 48
        }
      ]
    },
    {
      "cell_type": "code",
      "source": [
        "population.info()"
      ],
      "metadata": {
        "colab": {
          "base_uri": "https://localhost:8080/"
        },
        "id": "b3yf8xLUxcRD",
        "outputId": "cee3f67e-0427-478f-f9f9-b549460fc213"
      },
      "execution_count": 51,
      "outputs": [
        {
          "output_type": "stream",
          "name": "stdout",
          "text": [
            "<class 'pandas.core.frame.DataFrame'>\n",
            "RangeIndex: 217 entries, 0 to 216\n",
            "Data columns (total 6 columns):\n",
            " #   Column   Non-Null Count  Dtype \n",
            "---  ------   --------------  ----- \n",
            " 0   country  217 non-null    object\n",
            " 1   2015     216 non-null    object\n",
            " 2   2016     216 non-null    object\n",
            " 3   2017     216 non-null    object\n",
            " 4   2018     216 non-null    object\n",
            " 5   2019     216 non-null    object\n",
            "dtypes: object(6)\n",
            "memory usage: 10.3+ KB\n"
          ]
        }
      ]
    },
    {
      "cell_type": "code",
      "source": [
        "population.astype({'2015':'float','2016':'float','2017':'float','2018':'float','2019':'float'}).dtypes\n",
        "#population.astype({'2016':'float'})\n",
        "#population.astype({'2017':'float'})\n",
        "#population.astype({'2018':'float'})\n",
        "#population.astype({'2019':'float'}).dtypes"
      ],
      "metadata": {
        "colab": {
          "base_uri": "https://localhost:8080/"
        },
        "id": "vy8Pjk1Px-Ze",
        "outputId": "2d1ce507-2bbf-4283-dc16-1b63ba8fef40"
      },
      "execution_count": 52,
      "outputs": [
        {
          "output_type": "execute_result",
          "data": {
            "text/plain": [
              "country     object\n",
              "2015       float64\n",
              "2016       float64\n",
              "2017       float64\n",
              "2018       float64\n",
              "2019       float64\n",
              "dtype: object"
            ]
          },
          "metadata": {},
          "execution_count": 52
        }
      ]
    },
    {
      "cell_type": "code",
      "source": [
        "population.info()"
      ],
      "metadata": {
        "colab": {
          "base_uri": "https://localhost:8080/"
        },
        "id": "FIZDVDWzzMLg",
        "outputId": "7b774518-82aa-44f7-d7c5-06aaf875c162"
      },
      "execution_count": 53,
      "outputs": [
        {
          "output_type": "stream",
          "name": "stdout",
          "text": [
            "<class 'pandas.core.frame.DataFrame'>\n",
            "RangeIndex: 217 entries, 0 to 216\n",
            "Data columns (total 6 columns):\n",
            " #   Column   Non-Null Count  Dtype \n",
            "---  ------   --------------  ----- \n",
            " 0   country  217 non-null    object\n",
            " 1   2015     216 non-null    object\n",
            " 2   2016     216 non-null    object\n",
            " 3   2017     216 non-null    object\n",
            " 4   2018     216 non-null    object\n",
            " 5   2019     216 non-null    object\n",
            "dtypes: object(6)\n",
            "memory usage: 10.3+ KB\n"
          ]
        }
      ]
    },
    {
      "cell_type": "markdown",
      "source": [
        "# *VISUALIZANDO ALGUMAS INFORMAÇÕES SOBRE OS DADOS DA TABELA *URBAN* e *POPULATION* "
      ],
      "metadata": {
        "id": "Q2FDLR76hptz"
      }
    },
    {
      "cell_type": "markdown",
      "source": [
        "\n",
        "Verificando os 10 países com maior crescimento populacional em 201"
      ],
      "metadata": {
        "id": "SMQo-geAvduX"
      }
    },
    {
      "cell_type": "code",
      "source": [
        "population_top10 = population.nlargest(10,'2019')"
      ],
      "metadata": {
        "colab": {
          "base_uri": "https://localhost:8080/",
          "height": 325
        },
        "id": "UItvoQu7iEN9",
        "outputId": "e7a79b63-4261-4c47-9b91-4b2c560cd761"
      },
      "execution_count": 54,
      "outputs": [
        {
          "output_type": "error",
          "ename": "TypeError",
          "evalue": "ignored",
          "traceback": [
            "\u001b[0;31m---------------------------------------------------------------------------\u001b[0m",
            "\u001b[0;31mTypeError\u001b[0m                                 Traceback (most recent call last)",
            "\u001b[0;32m<ipython-input-54-ce29f585cf38>\u001b[0m in \u001b[0;36m<module>\u001b[0;34m\u001b[0m\n\u001b[0;32m----> 1\u001b[0;31m \u001b[0mpopulation_top10\u001b[0m \u001b[0;34m=\u001b[0m \u001b[0mpopulation\u001b[0m\u001b[0;34m.\u001b[0m\u001b[0mnlargest\u001b[0m\u001b[0;34m(\u001b[0m\u001b[0;36m10\u001b[0m\u001b[0;34m,\u001b[0m\u001b[0;34m'2019'\u001b[0m\u001b[0;34m)\u001b[0m\u001b[0;34m\u001b[0m\u001b[0;34m\u001b[0m\u001b[0m\n\u001b[0m",
            "\u001b[0;32m/usr/local/lib/python3.7/dist-packages/pandas/core/frame.py\u001b[0m in \u001b[0;36mnlargest\u001b[0;34m(self, n, columns, keep)\u001b[0m\n\u001b[1;32m   6634\u001b[0m         \u001b[0mBrunei\u001b[0m      \u001b[0;36m434000\u001b[0m    \u001b[0;36m12128\u001b[0m      \u001b[0mBN\u001b[0m\u001b[0;34m\u001b[0m\u001b[0;34m\u001b[0m\u001b[0m\n\u001b[1;32m   6635\u001b[0m         \"\"\"\n\u001b[0;32m-> 6636\u001b[0;31m         \u001b[0;32mreturn\u001b[0m \u001b[0malgorithms\u001b[0m\u001b[0;34m.\u001b[0m\u001b[0mSelectNFrame\u001b[0m\u001b[0;34m(\u001b[0m\u001b[0mself\u001b[0m\u001b[0;34m,\u001b[0m \u001b[0mn\u001b[0m\u001b[0;34m=\u001b[0m\u001b[0mn\u001b[0m\u001b[0;34m,\u001b[0m \u001b[0mkeep\u001b[0m\u001b[0;34m=\u001b[0m\u001b[0mkeep\u001b[0m\u001b[0;34m,\u001b[0m \u001b[0mcolumns\u001b[0m\u001b[0;34m=\u001b[0m\u001b[0mcolumns\u001b[0m\u001b[0;34m)\u001b[0m\u001b[0;34m.\u001b[0m\u001b[0mnlargest\u001b[0m\u001b[0;34m(\u001b[0m\u001b[0;34m)\u001b[0m\u001b[0;34m\u001b[0m\u001b[0;34m\u001b[0m\u001b[0m\n\u001b[0m\u001b[1;32m   6637\u001b[0m \u001b[0;34m\u001b[0m\u001b[0m\n\u001b[1;32m   6638\u001b[0m     \u001b[0;32mdef\u001b[0m \u001b[0mnsmallest\u001b[0m\u001b[0;34m(\u001b[0m\u001b[0mself\u001b[0m\u001b[0;34m,\u001b[0m \u001b[0mn\u001b[0m\u001b[0;34m,\u001b[0m \u001b[0mcolumns\u001b[0m\u001b[0;34m,\u001b[0m \u001b[0mkeep\u001b[0m\u001b[0;34m:\u001b[0m \u001b[0mstr\u001b[0m \u001b[0;34m=\u001b[0m \u001b[0;34m\"first\"\u001b[0m\u001b[0;34m)\u001b[0m \u001b[0;34m->\u001b[0m \u001b[0mDataFrame\u001b[0m\u001b[0;34m:\u001b[0m\u001b[0;34m\u001b[0m\u001b[0;34m\u001b[0m\u001b[0m\n",
            "\u001b[0;32m/usr/local/lib/python3.7/dist-packages/pandas/core/algorithms.py\u001b[0m in \u001b[0;36mnlargest\u001b[0;34m(self)\u001b[0m\n\u001b[1;32m   1219\u001b[0m     \u001b[0;34m@\u001b[0m\u001b[0mfinal\u001b[0m\u001b[0;34m\u001b[0m\u001b[0;34m\u001b[0m\u001b[0m\n\u001b[1;32m   1220\u001b[0m     \u001b[0;32mdef\u001b[0m \u001b[0mnlargest\u001b[0m\u001b[0;34m(\u001b[0m\u001b[0mself\u001b[0m\u001b[0;34m)\u001b[0m\u001b[0;34m:\u001b[0m\u001b[0;34m\u001b[0m\u001b[0;34m\u001b[0m\u001b[0m\n\u001b[0;32m-> 1221\u001b[0;31m         \u001b[0;32mreturn\u001b[0m \u001b[0mself\u001b[0m\u001b[0;34m.\u001b[0m\u001b[0mcompute\u001b[0m\u001b[0;34m(\u001b[0m\u001b[0;34m\"nlargest\"\u001b[0m\u001b[0;34m)\u001b[0m\u001b[0;34m\u001b[0m\u001b[0;34m\u001b[0m\u001b[0m\n\u001b[0m\u001b[1;32m   1222\u001b[0m \u001b[0;34m\u001b[0m\u001b[0m\n\u001b[1;32m   1223\u001b[0m     \u001b[0;34m@\u001b[0m\u001b[0mfinal\u001b[0m\u001b[0;34m\u001b[0m\u001b[0;34m\u001b[0m\u001b[0m\n",
            "\u001b[0;32m/usr/local/lib/python3.7/dist-packages/pandas/core/algorithms.py\u001b[0m in \u001b[0;36mcompute\u001b[0;34m(self, method)\u001b[0m\n\u001b[1;32m   1350\u001b[0m             \u001b[0;32mif\u001b[0m \u001b[0;32mnot\u001b[0m \u001b[0mself\u001b[0m\u001b[0;34m.\u001b[0m\u001b[0mis_valid_dtype_n_method\u001b[0m\u001b[0;34m(\u001b[0m\u001b[0mdtype\u001b[0m\u001b[0;34m)\u001b[0m\u001b[0;34m:\u001b[0m\u001b[0;34m\u001b[0m\u001b[0;34m\u001b[0m\u001b[0m\n\u001b[1;32m   1351\u001b[0m                 raise TypeError(\n\u001b[0;32m-> 1352\u001b[0;31m                     \u001b[0;34mf\"Column {repr(column)} has dtype {dtype}, \"\u001b[0m\u001b[0;34m\u001b[0m\u001b[0;34m\u001b[0m\u001b[0m\n\u001b[0m\u001b[1;32m   1353\u001b[0m                     \u001b[0;34mf\"cannot use method {repr(method)} with this dtype\"\u001b[0m\u001b[0;34m\u001b[0m\u001b[0;34m\u001b[0m\u001b[0m\n\u001b[1;32m   1354\u001b[0m                 )\n",
            "\u001b[0;31mTypeError\u001b[0m: Column '2019' has dtype object, cannot use method 'nlargest' with this dtype"
          ]
        }
      ]
    },
    {
      "cell_type": "code",
      "source": [
        "population_AMS = population[population.country == 'Brazil']\n"
      ],
      "metadata": {
        "id": "TyGuW481j4r7"
      },
      "execution_count": 55,
      "outputs": []
    },
    {
      "cell_type": "code",
      "source": [
        "plt.scatter(population['2019'], population['country'])"
      ],
      "metadata": {
        "colab": {
          "base_uri": "https://localhost:8080/",
          "height": 577
        },
        "id": "TNk7QBnA1T20",
        "outputId": "0ad78200-041f-43ab-d8f4-22e425120bc6"
      },
      "execution_count": 56,
      "outputs": [
        {
          "output_type": "error",
          "ename": "TypeError",
          "evalue": "ignored",
          "traceback": [
            "\u001b[0;31m---------------------------------------------------------------------------\u001b[0m",
            "\u001b[0;31mTypeError\u001b[0m                                 Traceback (most recent call last)",
            "\u001b[0;32m<ipython-input-56-9ece44e9d8fb>\u001b[0m in \u001b[0;36m<module>\u001b[0;34m\u001b[0m\n\u001b[0;32m----> 1\u001b[0;31m \u001b[0mplt\u001b[0m\u001b[0;34m.\u001b[0m\u001b[0mscatter\u001b[0m\u001b[0;34m(\u001b[0m\u001b[0mpopulation\u001b[0m\u001b[0;34m[\u001b[0m\u001b[0;34m'2019'\u001b[0m\u001b[0;34m]\u001b[0m\u001b[0;34m,\u001b[0m \u001b[0mpopulation\u001b[0m\u001b[0;34m[\u001b[0m\u001b[0;34m'country'\u001b[0m\u001b[0;34m]\u001b[0m\u001b[0;34m)\u001b[0m\u001b[0;34m\u001b[0m\u001b[0;34m\u001b[0m\u001b[0m\n\u001b[0m",
            "\u001b[0;32m/usr/local/lib/python3.7/dist-packages/matplotlib/pyplot.py\u001b[0m in \u001b[0;36mscatter\u001b[0;34m(x, y, s, c, marker, cmap, norm, vmin, vmax, alpha, linewidths, verts, edgecolors, plotnonfinite, data, **kwargs)\u001b[0m\n\u001b[1;32m   2814\u001b[0m         \u001b[0mverts\u001b[0m\u001b[0;34m=\u001b[0m\u001b[0mverts\u001b[0m\u001b[0;34m,\u001b[0m \u001b[0medgecolors\u001b[0m\u001b[0;34m=\u001b[0m\u001b[0medgecolors\u001b[0m\u001b[0;34m,\u001b[0m\u001b[0;34m\u001b[0m\u001b[0;34m\u001b[0m\u001b[0m\n\u001b[1;32m   2815\u001b[0m         plotnonfinite=plotnonfinite, **({\"data\": data} if data is not\n\u001b[0;32m-> 2816\u001b[0;31m         None else {}), **kwargs)\n\u001b[0m\u001b[1;32m   2817\u001b[0m     \u001b[0msci\u001b[0m\u001b[0;34m(\u001b[0m\u001b[0m__ret\u001b[0m\u001b[0;34m)\u001b[0m\u001b[0;34m\u001b[0m\u001b[0;34m\u001b[0m\u001b[0m\n\u001b[1;32m   2818\u001b[0m     \u001b[0;32mreturn\u001b[0m \u001b[0m__ret\u001b[0m\u001b[0;34m\u001b[0m\u001b[0;34m\u001b[0m\u001b[0m\n",
            "\u001b[0;32m/usr/local/lib/python3.7/dist-packages/matplotlib/__init__.py\u001b[0m in \u001b[0;36minner\u001b[0;34m(ax, data, *args, **kwargs)\u001b[0m\n\u001b[1;32m   1563\u001b[0m     \u001b[0;32mdef\u001b[0m \u001b[0minner\u001b[0m\u001b[0;34m(\u001b[0m\u001b[0max\u001b[0m\u001b[0;34m,\u001b[0m \u001b[0;34m*\u001b[0m\u001b[0margs\u001b[0m\u001b[0;34m,\u001b[0m \u001b[0mdata\u001b[0m\u001b[0;34m=\u001b[0m\u001b[0;32mNone\u001b[0m\u001b[0;34m,\u001b[0m \u001b[0;34m**\u001b[0m\u001b[0mkwargs\u001b[0m\u001b[0;34m)\u001b[0m\u001b[0;34m:\u001b[0m\u001b[0;34m\u001b[0m\u001b[0;34m\u001b[0m\u001b[0m\n\u001b[1;32m   1564\u001b[0m         \u001b[0;32mif\u001b[0m \u001b[0mdata\u001b[0m \u001b[0;32mis\u001b[0m \u001b[0;32mNone\u001b[0m\u001b[0;34m:\u001b[0m\u001b[0;34m\u001b[0m\u001b[0;34m\u001b[0m\u001b[0m\n\u001b[0;32m-> 1565\u001b[0;31m             \u001b[0;32mreturn\u001b[0m \u001b[0mfunc\u001b[0m\u001b[0;34m(\u001b[0m\u001b[0max\u001b[0m\u001b[0;34m,\u001b[0m \u001b[0;34m*\u001b[0m\u001b[0mmap\u001b[0m\u001b[0;34m(\u001b[0m\u001b[0msanitize_sequence\u001b[0m\u001b[0;34m,\u001b[0m \u001b[0margs\u001b[0m\u001b[0;34m)\u001b[0m\u001b[0;34m,\u001b[0m \u001b[0;34m**\u001b[0m\u001b[0mkwargs\u001b[0m\u001b[0;34m)\u001b[0m\u001b[0;34m\u001b[0m\u001b[0;34m\u001b[0m\u001b[0m\n\u001b[0m\u001b[1;32m   1566\u001b[0m \u001b[0;34m\u001b[0m\u001b[0m\n\u001b[1;32m   1567\u001b[0m         \u001b[0mbound\u001b[0m \u001b[0;34m=\u001b[0m \u001b[0mnew_sig\u001b[0m\u001b[0;34m.\u001b[0m\u001b[0mbind\u001b[0m\u001b[0;34m(\u001b[0m\u001b[0max\u001b[0m\u001b[0;34m,\u001b[0m \u001b[0;34m*\u001b[0m\u001b[0margs\u001b[0m\u001b[0;34m,\u001b[0m \u001b[0;34m**\u001b[0m\u001b[0mkwargs\u001b[0m\u001b[0;34m)\u001b[0m\u001b[0;34m\u001b[0m\u001b[0;34m\u001b[0m\u001b[0m\n",
            "\u001b[0;32m/usr/local/lib/python3.7/dist-packages/matplotlib/cbook/deprecation.py\u001b[0m in \u001b[0;36mwrapper\u001b[0;34m(*args, **kwargs)\u001b[0m\n\u001b[1;32m    356\u001b[0m                 \u001b[0;34mf\"%(removal)s.  If any parameter follows {name!r}, they \"\u001b[0m\u001b[0;34m\u001b[0m\u001b[0;34m\u001b[0m\u001b[0m\n\u001b[1;32m    357\u001b[0m                 f\"should be pass as keyword, not positionally.\")\n\u001b[0;32m--> 358\u001b[0;31m         \u001b[0;32mreturn\u001b[0m \u001b[0mfunc\u001b[0m\u001b[0;34m(\u001b[0m\u001b[0;34m*\u001b[0m\u001b[0margs\u001b[0m\u001b[0;34m,\u001b[0m \u001b[0;34m**\u001b[0m\u001b[0mkwargs\u001b[0m\u001b[0;34m)\u001b[0m\u001b[0;34m\u001b[0m\u001b[0;34m\u001b[0m\u001b[0m\n\u001b[0m\u001b[1;32m    359\u001b[0m \u001b[0;34m\u001b[0m\u001b[0m\n\u001b[1;32m    360\u001b[0m     \u001b[0;32mreturn\u001b[0m \u001b[0mwrapper\u001b[0m\u001b[0;34m\u001b[0m\u001b[0;34m\u001b[0m\u001b[0m\n",
            "\u001b[0;32m/usr/local/lib/python3.7/dist-packages/matplotlib/axes/_axes.py\u001b[0m in \u001b[0;36mscatter\u001b[0;34m(self, x, y, s, c, marker, cmap, norm, vmin, vmax, alpha, linewidths, verts, edgecolors, plotnonfinite, **kwargs)\u001b[0m\n\u001b[1;32m   4380\u001b[0m         \u001b[0;31m# Process **kwargs to handle aliases, conflicts with explicit kwargs:\u001b[0m\u001b[0;34m\u001b[0m\u001b[0;34m\u001b[0m\u001b[0;34m\u001b[0m\u001b[0m\n\u001b[1;32m   4381\u001b[0m \u001b[0;34m\u001b[0m\u001b[0m\n\u001b[0;32m-> 4382\u001b[0;31m         \u001b[0mself\u001b[0m\u001b[0;34m.\u001b[0m\u001b[0m_process_unit_info\u001b[0m\u001b[0;34m(\u001b[0m\u001b[0mxdata\u001b[0m\u001b[0;34m=\u001b[0m\u001b[0mx\u001b[0m\u001b[0;34m,\u001b[0m \u001b[0mydata\u001b[0m\u001b[0;34m=\u001b[0m\u001b[0my\u001b[0m\u001b[0;34m,\u001b[0m \u001b[0mkwargs\u001b[0m\u001b[0;34m=\u001b[0m\u001b[0mkwargs\u001b[0m\u001b[0;34m)\u001b[0m\u001b[0;34m\u001b[0m\u001b[0;34m\u001b[0m\u001b[0m\n\u001b[0m\u001b[1;32m   4383\u001b[0m         \u001b[0mx\u001b[0m \u001b[0;34m=\u001b[0m \u001b[0mself\u001b[0m\u001b[0;34m.\u001b[0m\u001b[0mconvert_xunits\u001b[0m\u001b[0;34m(\u001b[0m\u001b[0mx\u001b[0m\u001b[0;34m)\u001b[0m\u001b[0;34m\u001b[0m\u001b[0;34m\u001b[0m\u001b[0m\n\u001b[1;32m   4384\u001b[0m         \u001b[0my\u001b[0m \u001b[0;34m=\u001b[0m \u001b[0mself\u001b[0m\u001b[0;34m.\u001b[0m\u001b[0mconvert_yunits\u001b[0m\u001b[0;34m(\u001b[0m\u001b[0my\u001b[0m\u001b[0;34m)\u001b[0m\u001b[0;34m\u001b[0m\u001b[0;34m\u001b[0m\u001b[0m\n",
            "\u001b[0;32m/usr/local/lib/python3.7/dist-packages/matplotlib/axes/_base.py\u001b[0m in \u001b[0;36m_process_unit_info\u001b[0;34m(self, xdata, ydata, kwargs)\u001b[0m\n\u001b[1;32m   2071\u001b[0m             \u001b[0;32mreturn\u001b[0m \u001b[0mkwargs\u001b[0m\u001b[0;34m\u001b[0m\u001b[0;34m\u001b[0m\u001b[0m\n\u001b[1;32m   2072\u001b[0m \u001b[0;34m\u001b[0m\u001b[0m\n\u001b[0;32m-> 2073\u001b[0;31m         \u001b[0mkwargs\u001b[0m \u001b[0;34m=\u001b[0m \u001b[0m_process_single_axis\u001b[0m\u001b[0;34m(\u001b[0m\u001b[0mxdata\u001b[0m\u001b[0;34m,\u001b[0m \u001b[0mself\u001b[0m\u001b[0;34m.\u001b[0m\u001b[0mxaxis\u001b[0m\u001b[0;34m,\u001b[0m \u001b[0;34m'xunits'\u001b[0m\u001b[0;34m,\u001b[0m \u001b[0mkwargs\u001b[0m\u001b[0;34m)\u001b[0m\u001b[0;34m\u001b[0m\u001b[0;34m\u001b[0m\u001b[0m\n\u001b[0m\u001b[1;32m   2074\u001b[0m         \u001b[0mkwargs\u001b[0m \u001b[0;34m=\u001b[0m \u001b[0m_process_single_axis\u001b[0m\u001b[0;34m(\u001b[0m\u001b[0mydata\u001b[0m\u001b[0;34m,\u001b[0m \u001b[0mself\u001b[0m\u001b[0;34m.\u001b[0m\u001b[0myaxis\u001b[0m\u001b[0;34m,\u001b[0m \u001b[0;34m'yunits'\u001b[0m\u001b[0;34m,\u001b[0m \u001b[0mkwargs\u001b[0m\u001b[0;34m)\u001b[0m\u001b[0;34m\u001b[0m\u001b[0;34m\u001b[0m\u001b[0m\n\u001b[1;32m   2075\u001b[0m         \u001b[0;32mreturn\u001b[0m \u001b[0mkwargs\u001b[0m\u001b[0;34m\u001b[0m\u001b[0;34m\u001b[0m\u001b[0m\n",
            "\u001b[0;32m/usr/local/lib/python3.7/dist-packages/matplotlib/axes/_base.py\u001b[0m in \u001b[0;36m_process_single_axis\u001b[0;34m(data, axis, unit_name, kwargs)\u001b[0m\n\u001b[1;32m   2054\u001b[0m                 \u001b[0;31m# We only need to update if there is nothing set yet.\u001b[0m\u001b[0;34m\u001b[0m\u001b[0;34m\u001b[0m\u001b[0;34m\u001b[0m\u001b[0m\n\u001b[1;32m   2055\u001b[0m                 \u001b[0;32mif\u001b[0m \u001b[0;32mnot\u001b[0m \u001b[0maxis\u001b[0m\u001b[0;34m.\u001b[0m\u001b[0mhave_units\u001b[0m\u001b[0;34m(\u001b[0m\u001b[0;34m)\u001b[0m\u001b[0;34m:\u001b[0m\u001b[0;34m\u001b[0m\u001b[0;34m\u001b[0m\u001b[0m\n\u001b[0;32m-> 2056\u001b[0;31m                     \u001b[0maxis\u001b[0m\u001b[0;34m.\u001b[0m\u001b[0mupdate_units\u001b[0m\u001b[0;34m(\u001b[0m\u001b[0mdata\u001b[0m\u001b[0;34m)\u001b[0m\u001b[0;34m\u001b[0m\u001b[0;34m\u001b[0m\u001b[0m\n\u001b[0m\u001b[1;32m   2057\u001b[0m \u001b[0;34m\u001b[0m\u001b[0m\n\u001b[1;32m   2058\u001b[0m             \u001b[0;31m# Check for units in the kwargs, and if present update axis\u001b[0m\u001b[0;34m\u001b[0m\u001b[0;34m\u001b[0m\u001b[0;34m\u001b[0m\u001b[0m\n",
            "\u001b[0;32m/usr/local/lib/python3.7/dist-packages/matplotlib/axis.py\u001b[0m in \u001b[0;36mupdate_units\u001b[0;34m(self, data)\u001b[0m\n\u001b[1;32m   1514\u001b[0m         \u001b[0mneednew\u001b[0m \u001b[0;34m=\u001b[0m \u001b[0mself\u001b[0m\u001b[0;34m.\u001b[0m\u001b[0mconverter\u001b[0m \u001b[0;34m!=\u001b[0m \u001b[0mconverter\u001b[0m\u001b[0;34m\u001b[0m\u001b[0;34m\u001b[0m\u001b[0m\n\u001b[1;32m   1515\u001b[0m         \u001b[0mself\u001b[0m\u001b[0;34m.\u001b[0m\u001b[0mconverter\u001b[0m \u001b[0;34m=\u001b[0m \u001b[0mconverter\u001b[0m\u001b[0;34m\u001b[0m\u001b[0;34m\u001b[0m\u001b[0m\n\u001b[0;32m-> 1516\u001b[0;31m         \u001b[0mdefault\u001b[0m \u001b[0;34m=\u001b[0m \u001b[0mself\u001b[0m\u001b[0;34m.\u001b[0m\u001b[0mconverter\u001b[0m\u001b[0;34m.\u001b[0m\u001b[0mdefault_units\u001b[0m\u001b[0;34m(\u001b[0m\u001b[0mdata\u001b[0m\u001b[0;34m,\u001b[0m \u001b[0mself\u001b[0m\u001b[0;34m)\u001b[0m\u001b[0;34m\u001b[0m\u001b[0;34m\u001b[0m\u001b[0m\n\u001b[0m\u001b[1;32m   1517\u001b[0m         \u001b[0;32mif\u001b[0m \u001b[0mdefault\u001b[0m \u001b[0;32mis\u001b[0m \u001b[0;32mnot\u001b[0m \u001b[0;32mNone\u001b[0m \u001b[0;32mand\u001b[0m \u001b[0mself\u001b[0m\u001b[0;34m.\u001b[0m\u001b[0munits\u001b[0m \u001b[0;32mis\u001b[0m \u001b[0;32mNone\u001b[0m\u001b[0;34m:\u001b[0m\u001b[0;34m\u001b[0m\u001b[0;34m\u001b[0m\u001b[0m\n\u001b[1;32m   1518\u001b[0m             \u001b[0mself\u001b[0m\u001b[0;34m.\u001b[0m\u001b[0mset_units\u001b[0m\u001b[0;34m(\u001b[0m\u001b[0mdefault\u001b[0m\u001b[0;34m)\u001b[0m\u001b[0;34m\u001b[0m\u001b[0;34m\u001b[0m\u001b[0m\n",
            "\u001b[0;32m/usr/local/lib/python3.7/dist-packages/matplotlib/category.py\u001b[0m in \u001b[0;36mdefault_units\u001b[0;34m(data, axis)\u001b[0m\n\u001b[1;32m    105\u001b[0m         \u001b[0;31m# the conversion call stack is default_units -> axis_info -> convert\u001b[0m\u001b[0;34m\u001b[0m\u001b[0;34m\u001b[0m\u001b[0;34m\u001b[0m\u001b[0m\n\u001b[1;32m    106\u001b[0m         \u001b[0;32mif\u001b[0m \u001b[0maxis\u001b[0m\u001b[0;34m.\u001b[0m\u001b[0munits\u001b[0m \u001b[0;32mis\u001b[0m \u001b[0;32mNone\u001b[0m\u001b[0;34m:\u001b[0m\u001b[0;34m\u001b[0m\u001b[0;34m\u001b[0m\u001b[0m\n\u001b[0;32m--> 107\u001b[0;31m             \u001b[0maxis\u001b[0m\u001b[0;34m.\u001b[0m\u001b[0mset_units\u001b[0m\u001b[0;34m(\u001b[0m\u001b[0mUnitData\u001b[0m\u001b[0;34m(\u001b[0m\u001b[0mdata\u001b[0m\u001b[0;34m)\u001b[0m\u001b[0;34m)\u001b[0m\u001b[0;34m\u001b[0m\u001b[0;34m\u001b[0m\u001b[0m\n\u001b[0m\u001b[1;32m    108\u001b[0m         \u001b[0;32melse\u001b[0m\u001b[0;34m:\u001b[0m\u001b[0;34m\u001b[0m\u001b[0;34m\u001b[0m\u001b[0m\n\u001b[1;32m    109\u001b[0m             \u001b[0maxis\u001b[0m\u001b[0;34m.\u001b[0m\u001b[0munits\u001b[0m\u001b[0;34m.\u001b[0m\u001b[0mupdate\u001b[0m\u001b[0;34m(\u001b[0m\u001b[0mdata\u001b[0m\u001b[0;34m)\u001b[0m\u001b[0;34m\u001b[0m\u001b[0;34m\u001b[0m\u001b[0m\n",
            "\u001b[0;32m/usr/local/lib/python3.7/dist-packages/matplotlib/category.py\u001b[0m in \u001b[0;36m__init__\u001b[0;34m(self, data)\u001b[0m\n\u001b[1;32m    173\u001b[0m         \u001b[0mself\u001b[0m\u001b[0;34m.\u001b[0m\u001b[0m_counter\u001b[0m \u001b[0;34m=\u001b[0m \u001b[0mitertools\u001b[0m\u001b[0;34m.\u001b[0m\u001b[0mcount\u001b[0m\u001b[0;34m(\u001b[0m\u001b[0;34m)\u001b[0m\u001b[0;34m\u001b[0m\u001b[0;34m\u001b[0m\u001b[0m\n\u001b[1;32m    174\u001b[0m         \u001b[0;32mif\u001b[0m \u001b[0mdata\u001b[0m \u001b[0;32mis\u001b[0m \u001b[0;32mnot\u001b[0m \u001b[0;32mNone\u001b[0m\u001b[0;34m:\u001b[0m\u001b[0;34m\u001b[0m\u001b[0;34m\u001b[0m\u001b[0m\n\u001b[0;32m--> 175\u001b[0;31m             \u001b[0mself\u001b[0m\u001b[0;34m.\u001b[0m\u001b[0mupdate\u001b[0m\u001b[0;34m(\u001b[0m\u001b[0mdata\u001b[0m\u001b[0;34m)\u001b[0m\u001b[0;34m\u001b[0m\u001b[0;34m\u001b[0m\u001b[0m\n\u001b[0m\u001b[1;32m    176\u001b[0m \u001b[0;34m\u001b[0m\u001b[0m\n\u001b[1;32m    177\u001b[0m     \u001b[0;34m@\u001b[0m\u001b[0mstaticmethod\u001b[0m\u001b[0;34m\u001b[0m\u001b[0;34m\u001b[0m\u001b[0m\n",
            "\u001b[0;32m/usr/local/lib/python3.7/dist-packages/matplotlib/category.py\u001b[0m in \u001b[0;36mupdate\u001b[0;34m(self, data)\u001b[0m\n\u001b[1;32m    210\u001b[0m         \u001b[0;32mfor\u001b[0m \u001b[0mval\u001b[0m \u001b[0;32min\u001b[0m \u001b[0mOrderedDict\u001b[0m\u001b[0;34m.\u001b[0m\u001b[0mfromkeys\u001b[0m\u001b[0;34m(\u001b[0m\u001b[0mdata\u001b[0m\u001b[0;34m)\u001b[0m\u001b[0;34m:\u001b[0m\u001b[0;34m\u001b[0m\u001b[0;34m\u001b[0m\u001b[0m\n\u001b[1;32m    211\u001b[0m             \u001b[0;31m# OrderedDict just iterates over unique values in data.\u001b[0m\u001b[0;34m\u001b[0m\u001b[0;34m\u001b[0m\u001b[0;34m\u001b[0m\u001b[0m\n\u001b[0;32m--> 212\u001b[0;31m             \u001b[0mcbook\u001b[0m\u001b[0;34m.\u001b[0m\u001b[0m_check_isinstance\u001b[0m\u001b[0;34m(\u001b[0m\u001b[0;34m(\u001b[0m\u001b[0mstr\u001b[0m\u001b[0;34m,\u001b[0m \u001b[0mbytes\u001b[0m\u001b[0;34m)\u001b[0m\u001b[0;34m,\u001b[0m \u001b[0mvalue\u001b[0m\u001b[0;34m=\u001b[0m\u001b[0mval\u001b[0m\u001b[0;34m)\u001b[0m\u001b[0;34m\u001b[0m\u001b[0;34m\u001b[0m\u001b[0m\n\u001b[0m\u001b[1;32m    213\u001b[0m             \u001b[0;32mif\u001b[0m \u001b[0mconvertible\u001b[0m\u001b[0;34m:\u001b[0m\u001b[0;34m\u001b[0m\u001b[0;34m\u001b[0m\u001b[0m\n\u001b[1;32m    214\u001b[0m                 \u001b[0;31m# this will only be called so long as convertible is True.\u001b[0m\u001b[0;34m\u001b[0m\u001b[0;34m\u001b[0m\u001b[0;34m\u001b[0m\u001b[0m\n",
            "\u001b[0;32m/usr/local/lib/python3.7/dist-packages/matplotlib/cbook/__init__.py\u001b[0m in \u001b[0;36m_check_isinstance\u001b[0;34m(_types, **kwargs)\u001b[0m\n\u001b[1;32m   2126\u001b[0m                     \u001b[0;34m\", \"\u001b[0m\u001b[0;34m.\u001b[0m\u001b[0mjoin\u001b[0m\u001b[0;34m(\u001b[0m\u001b[0mnames\u001b[0m\u001b[0;34m[\u001b[0m\u001b[0;34m:\u001b[0m\u001b[0;34m-\u001b[0m\u001b[0;36m1\u001b[0m\u001b[0;34m]\u001b[0m\u001b[0;34m)\u001b[0m \u001b[0;34m+\u001b[0m \u001b[0;34m\" or \"\u001b[0m \u001b[0;34m+\u001b[0m \u001b[0mnames\u001b[0m\u001b[0;34m[\u001b[0m\u001b[0;34m-\u001b[0m\u001b[0;36m1\u001b[0m\u001b[0;34m]\u001b[0m\u001b[0;34m\u001b[0m\u001b[0;34m\u001b[0m\u001b[0m\n\u001b[1;32m   2127\u001b[0m                     \u001b[0;32mif\u001b[0m \u001b[0mlen\u001b[0m\u001b[0;34m(\u001b[0m\u001b[0mnames\u001b[0m\u001b[0;34m)\u001b[0m \u001b[0;34m>\u001b[0m \u001b[0;36m1\u001b[0m \u001b[0;32melse\u001b[0m \u001b[0mnames\u001b[0m\u001b[0;34m[\u001b[0m\u001b[0;36m0\u001b[0m\u001b[0;34m]\u001b[0m\u001b[0;34m,\u001b[0m\u001b[0;34m\u001b[0m\u001b[0;34m\u001b[0m\u001b[0m\n\u001b[0;32m-> 2128\u001b[0;31m                     type_name(type(v))))\n\u001b[0m\u001b[1;32m   2129\u001b[0m \u001b[0;34m\u001b[0m\u001b[0m\n\u001b[1;32m   2130\u001b[0m \u001b[0;34m\u001b[0m\u001b[0m\n",
            "\u001b[0;31mTypeError\u001b[0m: 'value' must be an instance of str or bytes, not a float"
          ]
        },
        {
          "output_type": "display_data",
          "data": {
            "text/plain": [
              "<Figure size 432x288 with 1 Axes>"
            ],
            "image/png": "[encoded data removed]"
          },
          "metadata": {
            "needs_background": "light"
          }
        }
      ]
    },
    {
      "cell_type": "code",
      "source": [
        "ax=plt.subplots(figsize=(14,6))\n",
        "ax.plot(['2015'], population_brazil['country'])"
      ],
      "metadata": {
        "id": "51U2ZlRj0Zig"
      },
      "execution_count": null,
      "outputs": []
    },
    {
      "cell_type": "code",
      "source": [
        "\n"
      ],
      "metadata": {
        "id": "vSYtzh76k1Zs"
      },
      "execution_count": null,
      "outputs": []
    },
    {
      "cell_type": "code",
      "source": [
        "plt.bar(urban['country'],urbanização_2015)"
      ],
      "metadata": {
        "id": "XuafXKB-l6nM"
      },
      "execution_count": null,
      "outputs": []
    }
  ]
}